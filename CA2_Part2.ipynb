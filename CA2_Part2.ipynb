{
 "cells": [
  {
   "cell_type": "markdown",
   "metadata": {},
   "source": [
    "### ISS VSE CA2 Part2"
   ]
  },
  {
   "cell_type": "markdown",
   "metadata": {},
   "source": [
    "#### By: Kenneth Goh (A0198544N), Raymond Ng (A0198543R), Tan Heng Han (A0198502B)"
   ]
  },
  {
   "cell_type": "code",
   "execution_count": 456,
   "metadata": {},
   "outputs": [],
   "source": [
    "import cv2\n",
    "import os\n",
    "import math\n",
    "import time\n",
    "from collections import Counter\n",
    "from itertools import repeat\n",
    "import pandas as pd\n",
    "import numpy as np\n",
    "import matplotlib.pyplot as plt\n",
    "%matplotlib inline\n",
    "\n",
    "from glob import glob\n",
    "from tqdm import tqdm\n",
    "\n",
    "from sklearn.model_selection import train_test_split\n",
    "\n",
    "from tensorflow.keras.layers import LeakyReLU\n",
    "from tensorflow.keras.layers import Activation\n",
    "from tensorflow.keras.layers import Conv2D\n",
    "from tensorflow.keras.layers import Conv3D\n",
    "from tensorflow.keras.layers import MaxPooling2D\n",
    "from tensorflow.keras.layers import MaxPooling3D\n",
    "from tensorflow.keras.layers import Dropout\n",
    "from tensorflow.keras.layers import Flatten\n",
    "from tensorflow.keras.layers import Dense\n",
    "from tensorflow.keras.layers import Input\n",
    "from tensorflow.keras.layers import BatchNormalization\n",
    "from tensorflow.keras.layers import Add\n",
    "from tensorflow.keras.models import Model\n",
    "from tensorflow.keras.callbacks import ModelCheckpoint\n",
    "from tensorflow.keras.callbacks import CSVLogger\n",
    "from tensorflow.keras.callbacks import EarlyStopping\n",
    "from tensorflow.keras.callbacks import ReduceLROnPlateau\n",
    "from tensorflow.keras.optimizers import Adam\n",
    "from tensorflow.keras.initializers import he_normal\n",
    "from tensorflow.keras.regularizers import l2\n",
    "\n",
    "import sklearn.metrics as metrics\n",
    "from sklearn.preprocessing import LabelEncoder"
   ]
  },
  {
   "cell_type": "markdown",
   "metadata": {},
   "source": [
    "### Config"
   ]
  },
  {
   "cell_type": "code",
   "execution_count": 457,
   "metadata": {},
   "outputs": [],
   "source": [
    "# Config\n",
    "modelInWidth = 368\n",
    "modelInHeight = 368\n",
    "TEST_SIZE = 0.2\n",
    "BATCH_SIZE = 2\n",
    "EPOCH = 200"
   ]
  },
  {
   "cell_type": "markdown",
   "metadata": {},
   "source": [
    "### Load and slice videos for training\n",
    "Slice training videos into 5hz frames for model input\n",
    "Data set:\n",
    "1. Push up videos\n",
    "2. Mixture of non push up videos"
   ]
  },
  {
   "cell_type": "code",
   "execution_count": 458,
   "metadata": {},
   "outputs": [
    {
     "data": {
      "text/html": [
       "<div>\n",
       "<style scoped>\n",
       "    .dataframe tbody tr th:only-of-type {\n",
       "        vertical-align: middle;\n",
       "    }\n",
       "\n",
       "    .dataframe tbody tr th {\n",
       "        vertical-align: top;\n",
       "    }\n",
       "\n",
       "    .dataframe thead th {\n",
       "        text-align: right;\n",
       "    }\n",
       "</style>\n",
       "<table border=\"1\" class=\"dataframe\">\n",
       "  <thead>\n",
       "    <tr style=\"text-align: right;\">\n",
       "      <th></th>\n",
       "      <th>video_name</th>\n",
       "    </tr>\n",
       "  </thead>\n",
       "  <tbody>\n",
       "    <tr>\n",
       "      <th>0</th>\n",
       "      <td>data/PushUps\\v_PushUps_g01_c01.avi</td>\n",
       "    </tr>\n",
       "    <tr>\n",
       "      <th>1</th>\n",
       "      <td>data/NotPushUps\\v_PullUps_g02_c01.avi</td>\n",
       "    </tr>\n",
       "  </tbody>\n",
       "</table>\n",
       "</div>"
      ],
      "text/plain": [
       "                              video_name\n",
       "0     data/PushUps\\v_PushUps_g01_c01.avi\n",
       "1  data/NotPushUps\\v_PullUps_g02_c01.avi"
      ]
     },
     "execution_count": 458,
     "metadata": {},
     "output_type": "execute_result"
    }
   ],
   "source": [
    "# Get filenames and labels for data\n",
    "labels = ['PushUps', 'NotPushUps']\n",
    "data_path = 'data/'\n",
    "files = pd.DataFrame()\n",
    "filenames = []\n",
    "for lbl in labels:\n",
    "    filename = np.array(glob(os.path.join(data_path, lbl) + '/*.avi'))\n",
    "    filenames.append(filename)\n",
    "\n",
    "files['video_name'] = [item for sublist in filenames for item in sublist]\n",
    "files.head()"
   ]
  },
  {
   "cell_type": "code",
   "execution_count": 459,
   "metadata": {},
   "outputs": [
    {
     "name": "stderr",
     "output_type": "stream",
     "text": [
      "100%|███████████████████████████████████████████████████████████████████████████████████████████████████████████████████████████████████████████████████████████████████████████████████████████████████████████████████████████████████████| 2/2 [00:00<00:00,  6.85it/s]\n"
     ]
    }
   ],
   "source": [
    "# Slice and store the frames from training videos\n",
    "for i in tqdm(range(files.shape[0])):\n",
    "    count = 0\n",
    "    videoFile = files['video_name'][i]\n",
    "    cap = cv2.VideoCapture(videoFile)   # capturing the video from the given path\n",
    "    frameRate = cap.get(5) #frame rate\n",
    "    while(cap.isOpened()):\n",
    "        frameId = cap.get(1) #current frame number\n",
    "        ret, frame = cap.read()\n",
    "        if (ret != True):\n",
    "            break\n",
    "        if (frameId % 2 == 0):\n",
    "            # storing the frames in a new folder named train_1\n",
    "            filename ='data/images/' + videoFile.split('\\\\')[1] +\"_frame%d.jpg\" % count;count+=1\n",
    "            cv2.imwrite(filename, frame)\n",
    "    cap.release()"
   ]
  },
  {
   "cell_type": "code",
   "execution_count": 460,
   "metadata": {},
   "outputs": [
    {
     "name": "stderr",
     "output_type": "stream",
     "text": [
      "100%|████████████████████████████████████████████████████████████████████████████████████████████████████████████████████████████████████████████████████████████████████████████████████████████████████████████████████████████████████| 89/89 [00:00<00:00, 193.79it/s]\n"
     ]
    },
    {
     "name": "stdout",
     "output_type": "stream",
     "text": [
      "Wall time: 468 ms\n"
     ]
    },
    {
     "data": {
      "text/plain": [
       "<bound method DataFrame.info of                                                 frame       label\n",
       "0   [[[1, 1, 1], [1, 1, 1], [1, 1, 1], [1, 1, 1], ...  NotPushUps\n",
       "1   [[[1, 1, 1], [1, 1, 1], [1, 1, 1], [1, 1, 1], ...  NotPushUps\n",
       "2   [[[1, 1, 1], [1, 1, 1], [1, 1, 1], [1, 1, 1], ...  NotPushUps\n",
       "3   [[[1, 1, 1], [1, 1, 1], [1, 1, 1], [1, 1, 1], ...  NotPushUps\n",
       "4   [[[1, 1, 1], [1, 1, 1], [1, 1, 1], [1, 1, 1], ...  NotPushUps\n",
       "..                                                ...         ...\n",
       "84  [[[7, 75, 140], [9, 78, 141], [8, 77, 140], [8...     PushUps\n",
       "85  [[[7, 75, 142], [11, 79, 144], [7, 78, 142], [...     PushUps\n",
       "86  [[[7, 76, 139], [10, 80, 140], [8, 78, 138], [...     PushUps\n",
       "87  [[[6, 76, 136], [10, 80, 139], [8, 79, 136], [...     PushUps\n",
       "88  [[[6, 76, 136], [10, 80, 139], [8, 79, 136], [...     PushUps\n",
       "\n",
       "[89 rows x 2 columns]>"
      ]
     },
     "execution_count": 460,
     "metadata": {},
     "output_type": "execute_result"
    }
   ],
   "source": [
    "%%time\n",
    "# Get filepath of all sliced images and read all images\n",
    "dataset_frame_path = 'data/images'\n",
    "frame_filenames = glob(dataset_frame_path + '/*.jpg')\n",
    "\n",
    "frames_n_labels = pd.DataFrame()\n",
    "\n",
    "frame_list = []\n",
    "label_list = []\n",
    "for idx in tqdm(range(len(frame_filenames))):\n",
    "    frame_list.append(cv2.imread(frame_filenames[idx]))\n",
    "    label = frame_filenames[idx].split('_')[1]\n",
    "    if label not in labels:\n",
    "        label = labels[1] # Assign all non-pushup\n",
    "    label_list.append(label)\n",
    "frames_n_labels['frame'] = frame_list\n",
    "frames_n_labels['label'] = np.vstack(label_list)\n",
    "frames_n_labels.info"
   ]
  },
  {
   "cell_type": "code",
   "execution_count": 461,
   "metadata": {},
   "outputs": [
    {
     "data": {
      "text/plain": [
       "Text(0.5, 1.0, 'Frame Distribution')"
      ]
     },
     "execution_count": 461,
     "metadata": {},
     "output_type": "execute_result"
    },
    {
     "data": {
      "image/png": "[encoded data removed]",
      "text/plain": [
       "<Figure size 1440x720 with 1 Axes>"
      ]
     },
     "metadata": {
      "needs_background": "light"
     },
     "output_type": "display_data"
    }
   ],
   "source": [
    "label_count = Counter(frames_n_labels['label'])\n",
    "plt.figure(figsize=(20,10))\n",
    "plt.bar(label_count.keys(), label_count.values())\n",
    "plt.title('Frame Distribution')"
   ]
  },
  {
   "cell_type": "markdown",
   "metadata": {},
   "source": [
    "### Load OpenPose models"
   ]
  },
  {
   "cell_type": "markdown",
   "metadata": {},
   "source": [
    "#### Instructions to get openpose models\n",
    "1. Clone https://github.com/CMU-Perceptual-Computing-Lab/openpose\n",
    "2. Open a console and run **openpose/models/getModels.bat**\n",
    "3. Copy contents from **openpose/models/pose/coco** to **Model/coco**"
   ]
  },
  {
   "cell_type": "code",
   "execution_count": 462,
   "metadata": {},
   "outputs": [],
   "source": [
    "PROTO_FILE = 'Model/coco/pose_deploy_linevec.prototxt'\n",
    "WEIGHTS_FILE = 'Model/coco/pose_iter_440000.caffemodel'\n",
    "BODY_PARTS = { \"Nose\": 0, \"Neck\": 1, \"RShoulder\": 2, \"RElbow\": 3, \"RWrist\": 4,\n",
    "               \"LShoulder\": 5, \"LElbow\": 6, \"LWrist\": 7, \"RHip\": 8, \"RKnee\": 9,\n",
    "               \"RAnkle\": 10, \"LHip\": 11, \"LKnee\": 12, \"LAnkle\": 13, \"REye\": 14,\n",
    "               \"LEye\": 15, \"REar\": 16, \"LEar\": 17, \"Background\": 18 }\n",
    "POSE_PAIRS = [ [\"Neck\", \"RShoulder\"], [\"Neck\", \"LShoulder\"], [\"RShoulder\", \"RElbow\"],\n",
    "               [\"RElbow\", \"RWrist\"], [\"LShoulder\", \"LElbow\"], [\"LElbow\", \"LWrist\"],\n",
    "               [\"Neck\", \"RHip\"], [\"RHip\", \"RKnee\"], [\"RKnee\", \"RAnkle\"], [\"Neck\", \"LHip\"],\n",
    "               [\"LHip\", \"LKnee\"], [\"LKnee\", \"LAnkle\"], [\"Neck\", \"Nose\"], [\"Nose\", \"REye\"],\n",
    "               [\"REye\", \"REar\"], [\"Nose\", \"LEye\"], [\"LEye\", \"LEar\"] ]"
   ]
  },
  {
   "cell_type": "code",
   "execution_count": 463,
   "metadata": {},
   "outputs": [],
   "source": [
    "# Load openpose model via Opencv\n",
    "try:\n",
    "    net = cv2.dnn.readNetFromCaffe(PROTO_FILE, WEIGHTS_FILE)\n",
    "except:\n",
    "    raise Exception('Error reading model, check model proto and weights file.')"
   ]
  },
  {
   "cell_type": "markdown",
   "metadata": {},
   "source": [
    "### Run Openpose inference for each frame\n",
    "Save heat maps for training"
   ]
  },
  {
   "cell_type": "code",
   "execution_count": 464,
   "metadata": {},
   "outputs": [
    {
     "name": "stderr",
     "output_type": "stream",
     "text": [
      "100%|█████████████████████████████████████████████████████████████████████████████████████████████████████████████████████████████████████████████████████████████████████████████████████████████████████████████████████████████████████| 89/89 [02:57<00:00,  2.00s/it]"
     ]
    },
    {
     "name": "stdout",
     "output_type": "stream",
     "text": [
      "Wall time: 2min 57s\n"
     ]
    },
    {
     "name": "stderr",
     "output_type": "stream",
     "text": [
      "\n"
     ]
    }
   ],
   "source": [
    "%%time\n",
    "netout = []\n",
    "for idx in tqdm(range(len(frames_n_labels['frame']))):\n",
    "    currFrame = frames_n_labels['frame'][idx]\n",
    "    frameWidth = currFrame.shape[1]\n",
    "    frameHeight = currFrame.shape[0]\n",
    "    inBlob = cv2.dnn.blobFromImage(currFrame, 1.0/255, (modelInWidth, modelInHeight), (0,0,0), swapRB=False, crop=False)\n",
    "    net.setInput(inBlob)\n",
    "    netout.append(np.swapaxes(np.squeeze(net.forward(), axis=0),0,2)) # shape=(46,46,57)\n",
    "netout_stk = np.stack(netout)"
   ]
  },
  {
   "cell_type": "markdown",
   "metadata": {},
   "source": [
    "### Check image and pose"
   ]
  },
  {
   "cell_type": "code",
   "execution_count": 465,
   "metadata": {},
   "outputs": [],
   "source": [
    "# Get random image\n",
    "ridx = np.random.randint(len(netout)-1)\n",
    "testout = np.swapaxes(netout[ridx],2,0) # shape=(57,46,46)\n",
    "testimg = frames_n_labels['frame'][ridx]"
   ]
  },
  {
   "cell_type": "code",
   "execution_count": 466,
   "metadata": {},
   "outputs": [],
   "source": [
    "points = []\n",
    "for i in range(len(BODY_PARTS)):\n",
    "    # Slice heatmap of corresponging body's part.\n",
    "    heatMap = testout[i, :, :]\n",
    " \n",
    "    # Originally, we try to find all the local maximums. To simplify a sample\n",
    "    # we just find a global one. However only a single pose at the same time\n",
    "    # could be detected this way.\n",
    "    _, conf, _, point = cv2.minMaxLoc(heatMap)\n",
    "    x = (frameWidth * point[0]) / testout.shape[2]\n",
    "    y = (frameHeight * point[1]) / testout.shape[1]\n",
    " \n",
    "    # Add a point if it's confidence is higher than threshold.\n",
    "    points.append((int(x), int(y)) if conf > 0.1 else None)"
   ]
  },
  {
   "cell_type": "code",
   "execution_count": 467,
   "metadata": {},
   "outputs": [],
   "source": [
    "for pair in POSE_PAIRS:\n",
    "    partFrom = pair[0]\n",
    "    partTo = pair[1]\n",
    "    assert(partFrom in BODY_PARTS)\n",
    "    assert(partTo in BODY_PARTS)\n",
    " \n",
    "    idFrom = BODY_PARTS[partFrom]\n",
    "    idTo = BODY_PARTS[partTo]\n",
    "    if points[idFrom] and points[idTo]:\n",
    "        cv2.line(testimg, points[idFrom], points[idTo], (255, 74, 0), 3)\n",
    "        cv2.ellipse(testimg, points[idFrom], (4, 4), 0, 0, 360, (255, 255, 255), cv2.FILLED)\n",
    "        cv2.ellipse(testimg, points[idTo], (4, 4), 0, 0, 360, (255, 255, 255), cv2.FILLED)\n",
    "        cv2.putText(testimg, str(idFrom), points[idFrom], cv2.FONT_HERSHEY_SIMPLEX, 0.5, (255, 255, 255),2,cv2.LINE_AA)\n",
    "        cv2.putText(testimg, str(idTo), points[idTo], cv2.FONT_HERSHEY_SIMPLEX, 0.5, (255, 255, 255),2,cv2.LINE_AA)"
   ]
  },
  {
   "cell_type": "code",
   "execution_count": 468,
   "metadata": {},
   "outputs": [
    {
     "data": {
      "image/png": "[encoded data removed]",
      "text/plain": [
       "<Figure size 720x720 with 1 Axes>"
      ]
     },
     "metadata": {
      "needs_background": "light"
     },
     "output_type": "display_data"
    }
   ],
   "source": [
    "plt.figure(figsize=(10,10))\n",
    "plt.imshow(testimg)\n",
    "plt.title('Pose')\n",
    "plt.show()"
   ]
  },
  {
   "cell_type": "markdown",
   "metadata": {},
   "source": [
    "### Prepare training data"
   ]
  },
  {
   "cell_type": "code",
   "execution_count": 469,
   "metadata": {},
   "outputs": [
    {
     "name": "stderr",
     "output_type": "stream",
     "text": [
      "D:\\Anaconda3\\envs\\vse\\lib\\site-packages\\sklearn\\preprocessing\\label.py:235: DataConversionWarning: A column-vector y was passed when a 1d array was expected. Please change the shape of y to (n_samples, ), for example using ravel().\n",
      "  y = column_or_1d(y, warn=True)\n"
     ]
    },
    {
     "data": {
      "text/plain": [
       "array([0, 0, 0, 0, 0, 0, 0, 0, 0, 0, 0, 0, 0, 0, 0, 0, 0, 0, 0, 0, 0, 0,\n",
       "       0, 0, 0, 0, 0, 0, 0, 0, 0, 0, 0, 0, 0, 0, 0, 0, 0, 0, 0, 0, 0, 0,\n",
       "       0, 0, 0, 0, 0, 0, 0, 0, 0, 0, 0, 0, 0, 0, 0, 0, 0, 1, 1, 1, 1, 1,\n",
       "       1, 1, 1, 1, 1, 1, 1, 1, 1, 1, 1, 1, 1, 1, 1, 1, 1, 1, 1, 1, 1, 1,\n",
       "       1])"
      ]
     },
     "execution_count": 469,
     "metadata": {},
     "output_type": "execute_result"
    }
   ],
   "source": [
    "all_lbl = np.asarray(frames_n_labels['label'])\n",
    "all_lbl = all_lbl.reshape(-1,1)\n",
    "oh_lbl = LabelEncoder().fit_transform(all_lbl)\n",
    "oh_lbl"
   ]
  },
  {
   "cell_type": "code",
   "execution_count": 470,
   "metadata": {},
   "outputs": [],
   "source": [
    "# Train test split\n",
    "trainData, testData, trainLabel, testLabel = train_test_split(netout_stk, oh_lbl, test_size=TEST_SIZE, random_state=42)"
   ]
  },
  {
   "cell_type": "code",
   "execution_count": 471,
   "metadata": {},
   "outputs": [
    {
     "name": "stdout",
     "output_type": "stream",
     "text": [
      "trainData shape: (71, 46, 46, 57)\n",
      "testData shape: (18, 46, 46, 57)\n",
      "trainLabel shape: (71,)\n",
      "testLabel shape: (18,)\n"
     ]
    }
   ],
   "source": [
    "print(f'trainData shape: {trainData.shape}')\n",
    "print(f'testData shape: {testData.shape}')\n",
    "print(f'trainLabel shape: {trainLabel.shape}')\n",
    "print(f'testLabel shape: {testLabel.shape}')"
   ]
  },
  {
   "cell_type": "markdown",
   "metadata": {},
   "source": [
    "### Training Model"
   ]
  },
  {
   "cell_type": "code",
   "execution_count": 472,
   "metadata": {},
   "outputs": [],
   "source": [
    "def createModel(x, y, features):\n",
    "    ipt = Input(shape=(x, y, features))\n",
    "\n",
    "    x   = Conv2D(32, (3,3), padding='same', strides=(2,2))(ipt)\n",
    "    x   = BatchNormalization()(x)\n",
    "    x   = Activation('relu')(x)\n",
    "    \n",
    "    x   = Conv2D(32, (3,3), padding='same', strides=(2,2))(x)\n",
    "    x   = BatchNormalization()(x)\n",
    "    x   = Activation('relu')(x)\n",
    "    \n",
    "    x   = Conv2D(64, (3,3), padding='same', strides=(2,2))(x)\n",
    "    x   = BatchNormalization()(x)\n",
    "    x   = Activation('relu')(x)\n",
    "    \n",
    "    x   = Conv2D(64, (3,3), padding='same', strides=(2,2))(x)\n",
    "    x   = BatchNormalization()(x)\n",
    "    x   = Activation('relu')(x)\n",
    "    x   = Dropout(0.5)(x)\n",
    "       \n",
    "    x   = Flatten()(x)\n",
    "    x   = Dense(128, activation='relu', kernel_initializer=he_normal(42), kernel_regularizer=l2(0.001))(x)\n",
    "    x   = Dense(64, activation='relu', kernel_initializer=he_normal(42), kernel_regularizer=l2(0.001))(x)\n",
    "    x   = Dense(1, activation='sigmoid')(x)\n",
    "    \n",
    "    model = Model(ipt, x)\n",
    "    model.compile(loss='binary_crossentropy', \n",
    "                  optimizer='adam', \n",
    "                  metrics=['accuracy'])\n",
    "    \n",
    "    return model"
   ]
  },
  {
   "cell_type": "code",
   "execution_count": 473,
   "metadata": {},
   "outputs": [
    {
     "name": "stdout",
     "output_type": "stream",
     "text": [
      "Model: \"model_40\"\n",
      "_________________________________________________________________\n",
      "Layer (type)                 Output Shape              Param #   \n",
      "=================================================================\n",
      "input_57 (InputLayer)        [(None, 46, 46, 57)]      0         \n",
      "_________________________________________________________________\n",
      "conv2d_172 (Conv2D)          (None, 23, 23, 32)        16448     \n",
      "_________________________________________________________________\n",
      "batch_normalization_194 (Bat (None, 23, 23, 32)        128       \n",
      "_________________________________________________________________\n",
      "activation_170 (Activation)  (None, 23, 23, 32)        0         \n",
      "_________________________________________________________________\n",
      "conv2d_173 (Conv2D)          (None, 12, 12, 32)        9248      \n",
      "_________________________________________________________________\n",
      "batch_normalization_195 (Bat (None, 12, 12, 32)        128       \n",
      "_________________________________________________________________\n",
      "activation_171 (Activation)  (None, 12, 12, 32)        0         \n",
      "_________________________________________________________________\n",
      "conv2d_174 (Conv2D)          (None, 6, 6, 64)          18496     \n",
      "_________________________________________________________________\n",
      "batch_normalization_196 (Bat (None, 6, 6, 64)          256       \n",
      "_________________________________________________________________\n",
      "activation_172 (Activation)  (None, 6, 6, 64)          0         \n",
      "_________________________________________________________________\n",
      "conv2d_175 (Conv2D)          (None, 3, 3, 64)          36928     \n",
      "_________________________________________________________________\n",
      "batch_normalization_197 (Bat (None, 3, 3, 64)          256       \n",
      "_________________________________________________________________\n",
      "activation_173 (Activation)  (None, 3, 3, 64)          0         \n",
      "_________________________________________________________________\n",
      "dropout_64 (Dropout)         (None, 3, 3, 64)          0         \n",
      "_________________________________________________________________\n",
      "flatten_30 (Flatten)         (None, 576)               0         \n",
      "_________________________________________________________________\n",
      "dense_118 (Dense)            (None, 128)               73856     \n",
      "_________________________________________________________________\n",
      "dense_119 (Dense)            (None, 64)                8256      \n",
      "_________________________________________________________________\n",
      "dense_120 (Dense)            (None, 1)                 65        \n",
      "=================================================================\n",
      "Total params: 164,065\n",
      "Trainable params: 163,681\n",
      "Non-trainable params: 384\n",
      "_________________________________________________________________\n"
     ]
    }
   ],
   "source": [
    "xShape, yShape, featureShape = trainData[0].shape\n",
    "trainModel = createModel(xShape, yShape, featureShape)\n",
    "inferModel = createModel(xShape, yShape, featureShape)\n",
    "trainModel.summary()"
   ]
  },
  {
   "cell_type": "code",
   "execution_count": 474,
   "metadata": {},
   "outputs": [],
   "source": [
    "modelname = 'pose'\n",
    "modelpath = os.path.join('Model', modelname+'.hdf5')\n",
    "checkpoint = ModelCheckpoint(modelpath, \n",
    "                             monitor='val_loss', \n",
    "                             verbose=1, \n",
    "                             save_best_only=True, \n",
    "                             mode='min')\n",
    "csv_logger = CSVLogger(modelname +'.csv')\n",
    "early_stop = EarlyStopping(monitor='val_loss', patience=5, verbose=1, mode='auto')\n",
    "reduceLr = ReduceLROnPlateau(monitor='val_loss', patience=5, verbose=1, mode='auto')\n",
    "\n",
    "callbacks_list  = [checkpoint, csv_logger, early_stop, reduceLr]"
   ]
  },
  {
   "cell_type": "code",
   "execution_count": 475,
   "metadata": {},
   "outputs": [
    {
     "name": "stdout",
     "output_type": "stream",
     "text": [
      "Train on 71 samples, validate on 18 samples\n",
      "Epoch 1/200\n",
      "68/71 [===========================>..] - ETA: 0s - loss: 0.4383 - accuracy: 0.9559\n",
      "Epoch 00001: val_loss improved from inf to 0.98728, saving model to Model\\pose.hdf5\n",
      "71/71 [==============================] - 2s 31ms/sample - loss: 0.4330 - accuracy: 0.9577 - val_loss: 0.9873 - val_accuracy: 0.7778\n",
      "Epoch 2/200\n",
      "70/71 [============================>.] - ETA: 0s - loss: 0.2924 - accuracy: 1.0000\n",
      "Epoch 00002: val_loss improved from 0.98728 to 0.92306, saving model to Model\\pose.hdf5\n",
      "71/71 [==============================] - 0s 6ms/sample - loss: 0.2921 - accuracy: 1.0000 - val_loss: 0.9231 - val_accuracy: 1.0000\n",
      "Epoch 3/200\n",
      "60/71 [========================>.....] - ETA: 0s - loss: 0.2611 - accuracy: 1.0000\n",
      "Epoch 00003: val_loss improved from 0.92306 to 0.86514, saving model to Model\\pose.hdf5\n",
      "71/71 [==============================] - 0s 6ms/sample - loss: 0.2590 - accuracy: 1.0000 - val_loss: 0.8651 - val_accuracy: 0.8889\n",
      "Epoch 4/200\n",
      "62/71 [=========================>....] - ETA: 0s - loss: 0.2354 - accuracy: 1.0000\n",
      "Epoch 00004: val_loss improved from 0.86514 to 0.82696, saving model to Model\\pose.hdf5\n",
      "71/71 [==============================] - 0s 5ms/sample - loss: 0.2340 - accuracy: 1.0000 - val_loss: 0.8270 - val_accuracy: 1.0000\n",
      "Epoch 5/200\n",
      "68/71 [===========================>..] - ETA: 0s - loss: 0.2143 - accuracy: 1.0000\n",
      "Epoch 00005: val_loss improved from 0.82696 to 0.77813, saving model to Model\\pose.hdf5\n",
      "71/71 [==============================] - 0s 6ms/sample - loss: 0.2139 - accuracy: 1.0000 - val_loss: 0.7781 - val_accuracy: 1.0000\n",
      "Epoch 6/200\n",
      "70/71 [============================>.] - ETA: 0s - loss: 0.1968 - accuracy: 1.0000\n",
      "Epoch 00006: val_loss improved from 0.77813 to 0.71803, saving model to Model\\pose.hdf5\n",
      "71/71 [==============================] - 0s 6ms/sample - loss: 0.1967 - accuracy: 1.0000 - val_loss: 0.7180 - val_accuracy: 1.0000\n",
      "Epoch 7/200\n",
      "70/71 [============================>.] - ETA: 0s - loss: 0.1815 - accuracy: 1.0000\n",
      "Epoch 00007: val_loss improved from 0.71803 to 0.60944, saving model to Model\\pose.hdf5\n",
      "71/71 [==============================] - 0s 6ms/sample - loss: 0.1814 - accuracy: 1.0000 - val_loss: 0.6094 - val_accuracy: 1.0000\n",
      "Epoch 8/200\n",
      "58/71 [=======================>......] - ETA: 0s - loss: 0.1690 - accuracy: 1.0000\n",
      "Epoch 00008: val_loss improved from 0.60944 to 0.50641, saving model to Model\\pose.hdf5\n",
      "71/71 [==============================] - 0s 6ms/sample - loss: 0.1678 - accuracy: 1.0000 - val_loss: 0.5064 - val_accuracy: 1.0000\n",
      "Epoch 9/200\n",
      "68/71 [===========================>..] - ETA: 0s - loss: 0.1560 - accuracy: 1.0000\n",
      "Epoch 00009: val_loss improved from 0.50641 to 0.38804, saving model to Model\\pose.hdf5\n",
      "71/71 [==============================] - 0s 6ms/sample - loss: 0.1557 - accuracy: 1.0000 - val_loss: 0.3880 - val_accuracy: 1.0000\n",
      "Epoch 10/200\n",
      "70/71 [============================>.] - ETA: 0s - loss: 0.1447 - accuracy: 1.0000\n",
      "Epoch 00010: val_loss improved from 0.38804 to 0.30279, saving model to Model\\pose.hdf5\n",
      "71/71 [==============================] - 0s 6ms/sample - loss: 0.1447 - accuracy: 1.0000 - val_loss: 0.3028 - val_accuracy: 1.0000\n",
      "Epoch 11/200\n",
      "58/71 [=======================>......] - ETA: 0s - loss: 0.1353 - accuracy: 1.0000\n",
      "Epoch 00011: val_loss improved from 0.30279 to 0.21992, saving model to Model\\pose.hdf5\n",
      "71/71 [==============================] - 0s 6ms/sample - loss: 0.1344 - accuracy: 1.0000 - val_loss: 0.2199 - val_accuracy: 1.0000\n",
      "Epoch 12/200\n",
      "58/71 [=======================>......] - ETA: 0s - loss: 0.1262 - accuracy: 1.0000\n",
      "Epoch 00012: val_loss improved from 0.21992 to 0.17075, saving model to Model\\pose.hdf5\n",
      "71/71 [==============================] - 0s 6ms/sample - loss: 0.1254 - accuracy: 1.0000 - val_loss: 0.1708 - val_accuracy: 1.0000\n",
      "Epoch 13/200\n",
      "68/71 [===========================>..] - ETA: 0s - loss: 0.1170 - accuracy: 1.0000\n",
      "Epoch 00013: val_loss improved from 0.17075 to 0.13806, saving model to Model\\pose.hdf5\n",
      "71/71 [==============================] - 0s 6ms/sample - loss: 0.1168 - accuracy: 1.0000 - val_loss: 0.1381 - val_accuracy: 1.0000\n",
      "Epoch 14/200\n",
      "60/71 [========================>.....] - ETA: 0s - loss: 0.1096 - accuracy: 1.0000\n",
      "Epoch 00014: val_loss improved from 0.13806 to 0.11546, saving model to Model\\pose.hdf5\n",
      "71/71 [==============================] - 0s 5ms/sample - loss: 0.1090 - accuracy: 1.0000 - val_loss: 0.1155 - val_accuracy: 1.0000\n",
      "Epoch 15/200\n",
      "60/71 [========================>.....] - ETA: 0s - loss: 0.1022 - accuracy: 1.0000\n",
      "Epoch 00015: val_loss improved from 0.11546 to 0.10379, saving model to Model\\pose.hdf5\n",
      "71/71 [==============================] - 0s 5ms/sample - loss: 0.1017 - accuracy: 1.0000 - val_loss: 0.1038 - val_accuracy: 1.0000\n",
      "Epoch 16/200\n",
      "58/71 [=======================>......] - ETA: 0s - loss: 0.0957 - accuracy: 1.0000\n",
      "Epoch 00016: val_loss improved from 0.10379 to 0.09437, saving model to Model\\pose.hdf5\n",
      "71/71 [==============================] - 0s 6ms/sample - loss: 0.0951 - accuracy: 1.0000 - val_loss: 0.0944 - val_accuracy: 1.0000\n",
      "Epoch 17/200\n",
      "68/71 [===========================>..] - ETA: 0s - loss: 0.0892 - accuracy: 1.0000\n",
      "Epoch 00017: val_loss improved from 0.09437 to 0.08682, saving model to Model\\pose.hdf5\n",
      "71/71 [==============================] - 1s 13ms/sample - loss: 0.0891 - accuracy: 1.0000 - val_loss: 0.0868 - val_accuracy: 1.0000\n",
      "Epoch 18/200\n",
      "60/71 [========================>.....] - ETA: 0s - loss: 0.0837 - accuracy: 1.0000\n",
      "Epoch 00018: val_loss improved from 0.08682 to 0.08103, saving model to Model\\pose.hdf5\n",
      "71/71 [==============================] - 0s 6ms/sample - loss: 0.0833 - accuracy: 1.0000 - val_loss: 0.0810 - val_accuracy: 1.0000\n",
      "Epoch 19/200\n",
      "70/71 [============================>.] - ETA: 0s - loss: 0.0780 - accuracy: 1.0000\n",
      "Epoch 00019: val_loss improved from 0.08103 to 0.07575, saving model to Model\\pose.hdf5\n",
      "71/71 [==============================] - 0s 6ms/sample - loss: 0.0780 - accuracy: 1.0000 - val_loss: 0.0758 - val_accuracy: 1.0000\n",
      "Epoch 20/200\n",
      "68/71 [===========================>..] - ETA: 0s - loss: 0.0732 - accuracy: 1.0000\n",
      "Epoch 00020: val_loss improved from 0.07575 to 0.07080, saving model to Model\\pose.hdf5\n",
      "71/71 [==============================] - 0s 6ms/sample - loss: 0.0731 - accuracy: 1.0000 - val_loss: 0.0708 - val_accuracy: 1.0000\n",
      "Epoch 21/200\n",
      "60/71 [========================>.....] - ETA: 0s - loss: 0.0691 - accuracy: 1.0000\n",
      "Epoch 00021: val_loss improved from 0.07080 to 0.06648, saving model to Model\\pose.hdf5\n",
      "71/71 [==============================] - 0s 6ms/sample - loss: 0.0687 - accuracy: 1.0000 - val_loss: 0.0665 - val_accuracy: 1.0000\n",
      "Epoch 22/200\n",
      "68/71 [===========================>..] - ETA: 0s - loss: 0.0644 - accuracy: 1.0000\n",
      "Epoch 00022: val_loss improved from 0.06648 to 0.06219, saving model to Model\\pose.hdf5\n",
      "71/71 [==============================] - 0s 6ms/sample - loss: 0.0643 - accuracy: 1.0000 - val_loss: 0.0622 - val_accuracy: 1.0000\n",
      "Epoch 23/200\n",
      "70/71 [============================>.] - ETA: 0s - loss: 0.0603 - accuracy: 1.0000\n",
      "Epoch 00023: val_loss improved from 0.06219 to 0.05834, saving model to Model\\pose.hdf5\n",
      "71/71 [==============================] - 0s 6ms/sample - loss: 0.0603 - accuracy: 1.0000 - val_loss: 0.0583 - val_accuracy: 1.0000\n",
      "Epoch 24/200\n",
      "70/71 [============================>.] - ETA: 0s - loss: 0.0567 - accuracy: 1.0000\n",
      "Epoch 00024: val_loss improved from 0.05834 to 0.05475, saving model to Model\\pose.hdf5\n",
      "71/71 [==============================] - 0s 6ms/sample - loss: 0.0566 - accuracy: 1.0000 - val_loss: 0.0547 - val_accuracy: 1.0000\n",
      "Epoch 25/200\n",
      "56/71 [======================>.......] - ETA: 0s - loss: 0.0534 - accuracy: 1.0000\n",
      "Epoch 00025: val_loss improved from 0.05475 to 0.05141, saving model to Model\\pose.hdf5\n",
      "71/71 [==============================] - 0s 6ms/sample - loss: 0.0531 - accuracy: 1.0000 - val_loss: 0.0514 - val_accuracy: 1.0000\n",
      "Epoch 26/200\n",
      "62/71 [=========================>....] - ETA: 0s - loss: 0.0502 - accuracy: 1.0000\n",
      "Epoch 00026: val_loss improved from 0.05141 to 0.04834, saving model to Model\\pose.hdf5\n",
      "71/71 [==============================] - 0s 6ms/sample - loss: 0.0500 - accuracy: 1.0000 - val_loss: 0.0483 - val_accuracy: 1.0000\n",
      "Epoch 27/200\n",
      "62/71 [=========================>....] - ETA: 0s - loss: 0.0472 - accuracy: 1.0000\n",
      "Epoch 00027: val_loss improved from 0.04834 to 0.04548, saving model to Model\\pose.hdf5\n",
      "71/71 [==============================] - 0s 6ms/sample - loss: 0.0470 - accuracy: 1.0000 - val_loss: 0.0455 - val_accuracy: 1.0000\n",
      "Epoch 28/200\n",
      "68/71 [===========================>..] - ETA: 0s - loss: 0.0442 - accuracy: 1.0000\n",
      "Epoch 00028: val_loss improved from 0.04548 to 0.04273, saving model to Model\\pose.hdf5\n",
      "71/71 [==============================] - 0s 6ms/sample - loss: 0.0442 - accuracy: 1.0000 - val_loss: 0.0427 - val_accuracy: 1.0000\n",
      "Epoch 29/200\n",
      "68/71 [===========================>..] - ETA: 0s - loss: 0.0418 - accuracy: 1.0000\n",
      "Epoch 00029: val_loss improved from 0.04273 to 0.04038, saving model to Model\\pose.hdf5\n",
      "71/71 [==============================] - 0s 6ms/sample - loss: 0.0417 - accuracy: 1.0000 - val_loss: 0.0404 - val_accuracy: 1.0000\n",
      "Epoch 30/200\n",
      "68/71 [===========================>..] - ETA: 0s - loss: 0.0392 - accuracy: 1.0000\n",
      "Epoch 00030: val_loss improved from 0.04038 to 0.03786, saving model to Model\\pose.hdf5\n",
      "71/71 [==============================] - 0s 6ms/sample - loss: 0.0391 - accuracy: 1.0000 - val_loss: 0.0379 - val_accuracy: 1.0000\n",
      "Epoch 31/200\n",
      "68/71 [===========================>..] - ETA: 0s - loss: 0.0368 - accuracy: 1.0000\n",
      "Epoch 00031: val_loss improved from 0.03786 to 0.03556, saving model to Model\\pose.hdf5\n",
      "71/71 [==============================] - 0s 6ms/sample - loss: 0.0367 - accuracy: 1.0000 - val_loss: 0.0356 - val_accuracy: 1.0000\n",
      "Epoch 32/200\n",
      "66/71 [==========================>...] - ETA: 0s - loss: 0.0346 - accuracy: 1.0000\n",
      "Epoch 00032: val_loss improved from 0.03556 to 0.03341, saving model to Model\\pose.hdf5\n",
      "71/71 [==============================] - 0s 6ms/sample - loss: 0.0345 - accuracy: 1.0000 - val_loss: 0.0334 - val_accuracy: 1.0000\n",
      "Epoch 33/200\n",
      "58/71 [=======================>......] - ETA: 0s - loss: 0.0329 - accuracy: 1.0000\n",
      "Epoch 00033: val_loss improved from 0.03341 to 0.03159, saving model to Model\\pose.hdf5\n",
      "71/71 [==============================] - 0s 6ms/sample - loss: 0.0327 - accuracy: 1.0000 - val_loss: 0.0316 - val_accuracy: 1.0000\n",
      "Epoch 34/200\n",
      "60/71 [========================>.....] - ETA: 0s - loss: 0.0309 - accuracy: 1.0000\n",
      "Epoch 00034: val_loss improved from 0.03159 to 0.02966, saving model to Model\\pose.hdf5\n",
      "71/71 [==============================] - 0s 6ms/sample - loss: 0.0307 - accuracy: 1.0000 - val_loss: 0.0297 - val_accuracy: 1.0000\n",
      "Epoch 35/200\n",
      "58/71 [=======================>......] - ETA: 0s - loss: 0.0290 - accuracy: 1.0000\n",
      "Epoch 00035: val_loss improved from 0.02966 to 0.02793, saving model to Model\\pose.hdf5\n",
      "71/71 [==============================] - 0s 6ms/sample - loss: 0.0289 - accuracy: 1.0000 - val_loss: 0.0279 - val_accuracy: 1.0000\n",
      "Epoch 36/200\n",
      "70/71 [============================>.] - ETA: 0s - loss: 0.0272 - accuracy: 1.0000\n",
      "Epoch 00036: val_loss improved from 0.02793 to 0.02629, saving model to Model\\pose.hdf5\n",
      "71/71 [==============================] - 0s 6ms/sample - loss: 0.0272 - accuracy: 1.0000 - val_loss: 0.0263 - val_accuracy: 1.0000\n",
      "Epoch 37/200\n",
      "70/71 [============================>.] - ETA: 0s - loss: 0.0256 - accuracy: 1.0000\n",
      "Epoch 00037: val_loss improved from 0.02629 to 0.02477, saving model to Model\\pose.hdf5\n",
      "71/71 [==============================] - 0s 6ms/sample - loss: 0.0256 - accuracy: 1.0000 - val_loss: 0.0248 - val_accuracy: 1.0000\n",
      "Epoch 38/200\n",
      "60/71 [========================>.....] - ETA: 0s - loss: 0.0242 - accuracy: 1.0000\n",
      "Epoch 00038: val_loss improved from 0.02477 to 0.02332, saving model to Model\\pose.hdf5\n",
      "71/71 [==============================] - 0s 6ms/sample - loss: 0.0241 - accuracy: 1.0000 - val_loss: 0.0233 - val_accuracy: 1.0000\n",
      "Epoch 39/200\n",
      "58/71 [=======================>......] - ETA: 0s - loss: 0.0229 - accuracy: 1.0000\n",
      "Epoch 00039: val_loss improved from 0.02332 to 0.02198, saving model to Model\\pose.hdf5\n",
      "71/71 [==============================] - 0s 6ms/sample - loss: 0.0227 - accuracy: 1.0000 - val_loss: 0.0220 - val_accuracy: 1.0000\n",
      "Epoch 40/200\n",
      "64/71 [==========================>...] - ETA: 0s - loss: 0.0215 - accuracy: 1.0000\n",
      "Epoch 00040: val_loss improved from 0.02198 to 0.02074, saving model to Model\\pose.hdf5\n",
      "71/71 [==============================] - 0s 6ms/sample - loss: 0.0214 - accuracy: 1.0000 - val_loss: 0.0207 - val_accuracy: 1.0000\n",
      "Epoch 41/200\n",
      "60/71 [========================>.....] - ETA: 0s - loss: 0.0202 - accuracy: 1.0000\n",
      "Epoch 00041: val_loss improved from 0.02074 to 0.01950, saving model to Model\\pose.hdf5\n",
      "71/71 [==============================] - 0s 6ms/sample - loss: 0.0201 - accuracy: 1.0000 - val_loss: 0.0195 - val_accuracy: 1.0000\n",
      "Epoch 42/200\n",
      "70/71 [============================>.] - ETA: 0s - loss: 0.0191 - accuracy: 1.0000\n",
      "Epoch 00042: val_loss improved from 0.01950 to 0.01843, saving model to Model\\pose.hdf5\n",
      "71/71 [==============================] - 0s 6ms/sample - loss: 0.0191 - accuracy: 1.0000 - val_loss: 0.0184 - val_accuracy: 1.0000\n",
      "Epoch 43/200\n",
      "68/71 [===========================>..] - ETA: 0s - loss: 0.0179 - accuracy: 1.0000\n",
      "Epoch 00043: val_loss improved from 0.01843 to 0.01735, saving model to Model\\pose.hdf5\n",
      "71/71 [==============================] - 0s 6ms/sample - loss: 0.0179 - accuracy: 1.0000 - val_loss: 0.0173 - val_accuracy: 1.0000\n",
      "Epoch 44/200\n",
      "70/71 [============================>.] - ETA: 0s - loss: 0.0169 - accuracy: 1.0000\n",
      "Epoch 00044: val_loss improved from 0.01735 to 0.01636, saving model to Model\\pose.hdf5\n",
      "71/71 [==============================] - 0s 6ms/sample - loss: 0.0169 - accuracy: 1.0000 - val_loss: 0.0164 - val_accuracy: 1.0000\n",
      "Epoch 45/200\n",
      "64/71 [==========================>...] - ETA: 0s - loss: 0.0160 - accuracy: 1.0000\n",
      "Epoch 00045: val_loss improved from 0.01636 to 0.01539, saving model to Model\\pose.hdf5\n",
      "71/71 [==============================] - 0s 7ms/sample - loss: 0.0159 - accuracy: 1.0000 - val_loss: 0.0154 - val_accuracy: 1.0000\n",
      "Epoch 46/200\n",
      "58/71 [=======================>......] - ETA: 0s - loss: 0.0153 - accuracy: 1.0000\n",
      "Epoch 00046: val_loss improved from 0.01539 to 0.01467, saving model to Model\\pose.hdf5\n",
      "71/71 [==============================] - 0s 6ms/sample - loss: 0.0152 - accuracy: 1.0000 - val_loss: 0.0147 - val_accuracy: 1.0000\n",
      "Epoch 47/200\n",
      "60/71 [========================>.....] - ETA: 0s - loss: 0.0143 - accuracy: 1.0000\n",
      "Epoch 00047: val_loss improved from 0.01467 to 0.01375, saving model to Model\\pose.hdf5\n",
      "71/71 [==============================] - 0s 6ms/sample - loss: 0.0142 - accuracy: 1.0000 - val_loss: 0.0137 - val_accuracy: 1.0000\n",
      "Epoch 48/200\n",
      "58/71 [=======================>......] - ETA: 0s - loss: 0.0135 - accuracy: 1.0000\n",
      "Epoch 00048: val_loss improved from 0.01375 to 0.01296, saving model to Model\\pose.hdf5\n",
      "71/71 [==============================] - 0s 6ms/sample - loss: 0.0134 - accuracy: 1.0000 - val_loss: 0.0130 - val_accuracy: 1.0000\n",
      "Epoch 49/200\n",
      "70/71 [============================>.] - ETA: 0s - loss: 0.0126 - accuracy: 1.0000\n",
      "Epoch 00049: val_loss improved from 0.01296 to 0.01220, saving model to Model\\pose.hdf5\n",
      "71/71 [==============================] - 0s 6ms/sample - loss: 0.0126 - accuracy: 1.0000 - val_loss: 0.0122 - val_accuracy: 1.0000\n",
      "Epoch 50/200\n",
      "66/71 [==========================>...] - ETA: 0s - loss: 0.0119 - accuracy: 1.0000\n",
      "Epoch 00050: val_loss improved from 0.01220 to 0.01151, saving model to Model\\pose.hdf5\n",
      "71/71 [==============================] - 0s 6ms/sample - loss: 0.0119 - accuracy: 1.0000 - val_loss: 0.0115 - val_accuracy: 1.0000\n",
      "Epoch 51/200\n",
      "70/71 [============================>.] - ETA: 0s - loss: 0.0113 - accuracy: 1.0000\n",
      "Epoch 00051: val_loss improved from 0.01151 to 0.01090, saving model to Model\\pose.hdf5\n",
      "71/71 [==============================] - 0s 6ms/sample - loss: 0.0113 - accuracy: 1.0000 - val_loss: 0.0109 - val_accuracy: 1.0000\n",
      "Epoch 52/200\n",
      "68/71 [===========================>..] - ETA: 0s - loss: 0.0106 - accuracy: 1.0000\n",
      "Epoch 00052: val_loss improved from 0.01090 to 0.01030, saving model to Model\\pose.hdf5\n",
      "71/71 [==============================] - 0s 6ms/sample - loss: 0.0106 - accuracy: 1.0000 - val_loss: 0.0103 - val_accuracy: 1.0000\n",
      "Epoch 53/200\n",
      "70/71 [============================>.] - ETA: 0s - loss: 0.0101 - accuracy: 1.0000\n",
      "Epoch 00053: val_loss improved from 0.01030 to 0.00972, saving model to Model\\pose.hdf5\n",
      "71/71 [==============================] - 0s 6ms/sample - loss: 0.0100 - accuracy: 1.0000 - val_loss: 0.0097 - val_accuracy: 1.0000\n",
      "Epoch 54/200\n",
      "70/71 [============================>.] - ETA: 0s - loss: 0.0097 - accuracy: 1.0000\n",
      "Epoch 00054: val_loss improved from 0.00972 to 0.00927, saving model to Model\\pose.hdf5\n",
      "71/71 [==============================] - 0s 6ms/sample - loss: 0.0096 - accuracy: 1.0000 - val_loss: 0.0093 - val_accuracy: 1.0000\n",
      "Epoch 55/200\n",
      "70/71 [============================>.] - ETA: 0s - loss: 0.0090 - accuracy: 1.0000\n",
      "Epoch 00055: val_loss improved from 0.00927 to 0.00869, saving model to Model\\pose.hdf5\n",
      "71/71 [==============================] - 0s 6ms/sample - loss: 0.0090 - accuracy: 1.0000 - val_loss: 0.0087 - val_accuracy: 1.0000\n",
      "Epoch 56/200\n",
      "68/71 [===========================>..] - ETA: 0s - loss: 0.0086 - accuracy: 1.0000\n",
      "Epoch 00056: val_loss improved from 0.00869 to 0.00824, saving model to Model\\pose.hdf5\n",
      "71/71 [==============================] - 0s 6ms/sample - loss: 0.0086 - accuracy: 1.0000 - val_loss: 0.0082 - val_accuracy: 1.0000\n",
      "Epoch 57/200\n",
      "66/71 [==========================>...] - ETA: 0s - loss: 0.0081 - accuracy: 1.0000\n",
      "Epoch 00057: val_loss improved from 0.00824 to 0.00778, saving model to Model\\pose.hdf5\n",
      "71/71 [==============================] - 0s 6ms/sample - loss: 0.0081 - accuracy: 1.0000 - val_loss: 0.0078 - val_accuracy: 1.0000\n",
      "Epoch 58/200\n",
      "60/71 [========================>.....] - ETA: 0s - loss: 0.0077 - accuracy: 1.0000\n",
      "Epoch 00058: val_loss improved from 0.00778 to 0.00734, saving model to Model\\pose.hdf5\n",
      "71/71 [==============================] - 0s 6ms/sample - loss: 0.0076 - accuracy: 1.0000 - val_loss: 0.0073 - val_accuracy: 1.0000\n",
      "Epoch 59/200\n",
      "58/71 [=======================>......] - ETA: 0s - loss: 0.0073 - accuracy: 1.0000\n",
      "Epoch 00059: val_loss improved from 0.00734 to 0.00703, saving model to Model\\pose.hdf5\n",
      "71/71 [==============================] - 0s 6ms/sample - loss: 0.0073 - accuracy: 1.0000 - val_loss: 0.0070 - val_accuracy: 1.0000\n",
      "Epoch 60/200\n",
      "66/71 [==========================>...] - ETA: 0s - loss: 0.0069 - accuracy: 1.0000\n",
      "Epoch 00060: val_loss improved from 0.00703 to 0.00662, saving model to Model\\pose.hdf5\n",
      "71/71 [==============================] - 0s 6ms/sample - loss: 0.0069 - accuracy: 1.0000 - val_loss: 0.0066 - val_accuracy: 1.0000\n",
      "Epoch 61/200\n",
      "60/71 [========================>.....] - ETA: 0s - loss: 0.0065 - accuracy: 1.0000\n",
      "Epoch 00061: val_loss improved from 0.00662 to 0.00620, saving model to Model\\pose.hdf5\n",
      "71/71 [==============================] - 0s 6ms/sample - loss: 0.0064 - accuracy: 1.0000 - val_loss: 0.0062 - val_accuracy: 1.0000\n",
      "Epoch 62/200\n",
      "68/71 [===========================>..] - ETA: 0s - loss: 0.0061 - accuracy: 1.0000\n",
      "Epoch 00062: val_loss improved from 0.00620 to 0.00586, saving model to Model\\pose.hdf5\n",
      "71/71 [==============================] - 0s 6ms/sample - loss: 0.0061 - accuracy: 1.0000 - val_loss: 0.0059 - val_accuracy: 1.0000\n",
      "Epoch 63/200\n",
      "66/71 [==========================>...] - ETA: 0s - loss: 0.0057 - accuracy: 1.0000\n",
      "Epoch 00063: val_loss improved from 0.00586 to 0.00555, saving model to Model\\pose.hdf5\n",
      "71/71 [==============================] - 0s 6ms/sample - loss: 0.0057 - accuracy: 1.0000 - val_loss: 0.0055 - val_accuracy: 1.0000\n",
      "Epoch 64/200\n",
      "64/71 [==========================>...] - ETA: 0s - loss: 0.0054 - accuracy: 1.0000\n",
      "Epoch 00064: val_loss improved from 0.00555 to 0.00527, saving model to Model\\pose.hdf5\n",
      "71/71 [==============================] - 0s 6ms/sample - loss: 0.0054 - accuracy: 1.0000 - val_loss: 0.0053 - val_accuracy: 1.0000\n",
      "Epoch 65/200\n",
      "70/71 [============================>.] - ETA: 0s - loss: 0.0051 - accuracy: 1.0000\n",
      "Epoch 00065: val_loss improved from 0.00527 to 0.00497, saving model to Model\\pose.hdf5\n",
      "71/71 [==============================] - 0s 6ms/sample - loss: 0.0051 - accuracy: 1.0000 - val_loss: 0.0050 - val_accuracy: 1.0000\n",
      "Epoch 66/200\n",
      "60/71 [========================>.....] - ETA: 0s - loss: 0.0049 - accuracy: 1.0000\n",
      "Epoch 00066: val_loss improved from 0.00497 to 0.00471, saving model to Model\\pose.hdf5\n",
      "71/71 [==============================] - 0s 6ms/sample - loss: 0.0049 - accuracy: 1.0000 - val_loss: 0.0047 - val_accuracy: 1.0000\n",
      "Epoch 67/200\n",
      "70/71 [============================>.] - ETA: 0s - loss: 0.0047 - accuracy: 1.0000\n",
      "Epoch 00067: val_loss improved from 0.00471 to 0.00449, saving model to Model\\pose.hdf5\n",
      "71/71 [==============================] - 0s 6ms/sample - loss: 0.0047 - accuracy: 1.0000 - val_loss: 0.0045 - val_accuracy: 1.0000\n",
      "Epoch 68/200\n",
      "58/71 [=======================>......] - ETA: 0s - loss: 0.0045 - accuracy: 1.0000\n",
      "Epoch 00068: val_loss improved from 0.00449 to 0.00425, saving model to Model\\pose.hdf5\n",
      "71/71 [==============================] - 0s 6ms/sample - loss: 0.0044 - accuracy: 1.0000 - val_loss: 0.0042 - val_accuracy: 1.0000\n",
      "Epoch 69/200\n",
      "66/71 [==========================>...] - ETA: 0s - loss: 0.0042 - accuracy: 1.0000\n",
      "Epoch 00069: val_loss improved from 0.00425 to 0.00405, saving model to Model\\pose.hdf5\n",
      "71/71 [==============================] - 0s 6ms/sample - loss: 0.0042 - accuracy: 1.0000 - val_loss: 0.0041 - val_accuracy: 1.0000\n",
      "Epoch 70/200\n",
      "70/71 [============================>.] - ETA: 0s - loss: 0.0040 - accuracy: 1.0000\n",
      "Epoch 00070: val_loss improved from 0.00405 to 0.00384, saving model to Model\\pose.hdf5\n",
      "71/71 [==============================] - 0s 6ms/sample - loss: 0.0040 - accuracy: 1.0000 - val_loss: 0.0038 - val_accuracy: 1.0000\n",
      "Epoch 71/200\n",
      "68/71 [===========================>..] - ETA: 0s - loss: 0.0038 - accuracy: 1.0000\n",
      "Epoch 00071: val_loss improved from 0.00384 to 0.00367, saving model to Model\\pose.hdf5\n",
      "71/71 [==============================] - 0s 6ms/sample - loss: 0.0038 - accuracy: 1.0000 - val_loss: 0.0037 - val_accuracy: 1.0000\n",
      "Epoch 72/200\n",
      "70/71 [============================>.] - ETA: 0s - loss: 0.0036 - accuracy: 1.0000\n",
      "Epoch 00072: val_loss improved from 0.00367 to 0.00347, saving model to Model\\pose.hdf5\n",
      "71/71 [==============================] - 0s 6ms/sample - loss: 0.0036 - accuracy: 1.0000 - val_loss: 0.0035 - val_accuracy: 1.0000\n",
      "Epoch 73/200\n",
      "70/71 [============================>.] - ETA: 0s - loss: 0.0034 - accuracy: 1.0000\n",
      "Epoch 00073: val_loss improved from 0.00347 to 0.00331, saving model to Model\\pose.hdf5\n",
      "71/71 [==============================] - 0s 6ms/sample - loss: 0.0034 - accuracy: 1.0000 - val_loss: 0.0033 - val_accuracy: 1.0000\n",
      "Epoch 74/200\n",
      "70/71 [============================>.] - ETA: 0s - loss: 0.0033 - accuracy: 1.0000\n",
      "Epoch 00074: val_loss improved from 0.00331 to 0.00315, saving model to Model\\pose.hdf5\n",
      "71/71 [==============================] - 0s 6ms/sample - loss: 0.0033 - accuracy: 1.0000 - val_loss: 0.0031 - val_accuracy: 1.0000\n",
      "Epoch 75/200\n",
      "62/71 [=========================>....] - ETA: 0s - loss: 0.0031 - accuracy: 1.0000\n",
      "Epoch 00075: val_loss improved from 0.00315 to 0.00298, saving model to Model\\pose.hdf5\n",
      "71/71 [==============================] - 1s 7ms/sample - loss: 0.0031 - accuracy: 1.0000 - val_loss: 0.0030 - val_accuracy: 1.0000\n",
      "Epoch 76/200\n",
      "60/71 [========================>.....] - ETA: 0s - loss: 0.0030 - accuracy: 1.0000\n",
      "Epoch 00076: val_loss improved from 0.00298 to 0.00286, saving model to Model\\pose.hdf5\n",
      "71/71 [==============================] - 0s 7ms/sample - loss: 0.0030 - accuracy: 1.0000 - val_loss: 0.0029 - val_accuracy: 1.0000\n",
      "Epoch 77/200\n",
      "60/71 [========================>.....] - ETA: 0s - loss: 0.0028 - accuracy: 1.0000\n",
      "Epoch 00077: val_loss improved from 0.00286 to 0.00268, saving model to Model\\pose.hdf5\n",
      "71/71 [==============================] - 0s 7ms/sample - loss: 0.0028 - accuracy: 1.0000 - val_loss: 0.0027 - val_accuracy: 1.0000\n",
      "Epoch 78/200\n",
      "64/71 [==========================>...] - ETA: 0s - loss: 0.0027 - accuracy: 1.0000\n",
      "Epoch 00078: val_loss improved from 0.00268 to 0.00262, saving model to Model\\pose.hdf5\n",
      "71/71 [==============================] - 0s 7ms/sample - loss: 0.0027 - accuracy: 1.0000 - val_loss: 0.0026 - val_accuracy: 1.0000\n",
      "Epoch 79/200\n",
      "60/71 [========================>.....] - ETA: 0s - loss: 0.0026 - accuracy: 1.0000\n",
      "Epoch 00079: val_loss improved from 0.00262 to 0.00247, saving model to Model\\pose.hdf5\n",
      "71/71 [==============================] - 0s 6ms/sample - loss: 0.0026 - accuracy: 1.0000 - val_loss: 0.0025 - val_accuracy: 1.0000\n",
      "Epoch 80/200\n",
      "66/71 [==========================>...] - ETA: 0s - loss: 0.0027 - accuracy: 1.0000\n",
      "Epoch 00080: val_loss did not improve from 0.00247\n",
      "71/71 [==============================] - 0s 5ms/sample - loss: 0.0026 - accuracy: 1.0000 - val_loss: 0.0025 - val_accuracy: 1.0000\n",
      "Epoch 81/200\n",
      "62/71 [=========================>....] - ETA: 0s - loss: 0.0024 - accuracy: 1.0000\n",
      "Epoch 00081: val_loss improved from 0.00247 to 0.00225, saving model to Model\\pose.hdf5\n",
      "71/71 [==============================] - 0s 6ms/sample - loss: 0.0024 - accuracy: 1.0000 - val_loss: 0.0023 - val_accuracy: 1.0000\n",
      "Epoch 82/200\n",
      "58/71 [=======================>......] - ETA: 0s - loss: 0.0023 - accuracy: 1.0000\n",
      "Epoch 00082: val_loss improved from 0.00225 to 0.00216, saving model to Model\\pose.hdf5\n",
      "71/71 [==============================] - 0s 6ms/sample - loss: 0.0022 - accuracy: 1.0000 - val_loss: 0.0022 - val_accuracy: 1.0000\n",
      "Epoch 83/200\n",
      "70/71 [============================>.] - ETA: 0s - loss: 0.0022 - accuracy: 1.0000\n",
      "Epoch 00083: val_loss improved from 0.00216 to 0.00205, saving model to Model\\pose.hdf5\n",
      "71/71 [==============================] - 0s 6ms/sample - loss: 0.0022 - accuracy: 1.0000 - val_loss: 0.0021 - val_accuracy: 1.0000\n",
      "Epoch 84/200\n",
      "70/71 [============================>.] - ETA: 0s - loss: 0.0021 - accuracy: 1.0000\n",
      "Epoch 00084: val_loss improved from 0.00205 to 0.00202, saving model to Model\\pose.hdf5\n",
      "71/71 [==============================] - 0s 6ms/sample - loss: 0.0021 - accuracy: 1.0000 - val_loss: 0.0020 - val_accuracy: 1.0000\n",
      "Epoch 85/200\n",
      "64/71 [==========================>...] - ETA: 0s - loss: 0.0020 - accuracy: 1.0000\n",
      "Epoch 00085: val_loss improved from 0.00202 to 0.00188, saving model to Model\\pose.hdf5\n",
      "71/71 [==============================] - 0s 6ms/sample - loss: 0.0020 - accuracy: 1.0000 - val_loss: 0.0019 - val_accuracy: 1.0000\n",
      "Epoch 86/200\n",
      "64/71 [==========================>...] - ETA: 0s - loss: 0.0019 - accuracy: 1.0000\n",
      "Epoch 00086: val_loss improved from 0.00188 to 0.00187, saving model to Model\\pose.hdf5\n",
      "71/71 [==============================] - 0s 7ms/sample - loss: 0.0019 - accuracy: 1.0000 - val_loss: 0.0019 - val_accuracy: 1.0000\n",
      "Epoch 87/200\n",
      "66/71 [==========================>...] - ETA: 0s - loss: 0.0018 - accuracy: 1.0000\n",
      "Epoch 00087: val_loss improved from 0.00187 to 0.00175, saving model to Model\\pose.hdf5\n",
      "71/71 [==============================] - 0s 6ms/sample - loss: 0.0018 - accuracy: 1.0000 - val_loss: 0.0018 - val_accuracy: 1.0000\n",
      "Epoch 88/200\n",
      "58/71 [=======================>......] - ETA: 0s - loss: 0.0017 - accuracy: 1.0000\n",
      "Epoch 00088: val_loss improved from 0.00175 to 0.00170, saving model to Model\\pose.hdf5\n",
      "71/71 [==============================] - 0s 6ms/sample - loss: 0.0017 - accuracy: 1.0000 - val_loss: 0.0017 - val_accuracy: 1.0000\n",
      "Epoch 89/200\n",
      "70/71 [============================>.] - ETA: 0s - loss: 0.0017 - accuracy: 1.0000\n",
      "Epoch 00089: val_loss improved from 0.00170 to 0.00158, saving model to Model\\pose.hdf5\n",
      "71/71 [==============================] - 0s 6ms/sample - loss: 0.0017 - accuracy: 1.0000 - val_loss: 0.0016 - val_accuracy: 1.0000\n",
      "Epoch 90/200\n",
      "68/71 [===========================>..] - ETA: 0s - loss: 0.0017 - accuracy: 1.0000\n",
      "Epoch 00090: val_loss did not improve from 0.00158\n",
      "71/71 [==============================] - 0s 5ms/sample - loss: 0.0017 - accuracy: 1.0000 - val_loss: 0.0016 - val_accuracy: 1.0000\n",
      "Epoch 91/200\n",
      "68/71 [===========================>..] - ETA: 0s - loss: 0.0017 - accuracy: 1.0000\n",
      "Epoch 00091: val_loss did not improve from 0.00158\n",
      "71/71 [==============================] - 0s 5ms/sample - loss: 0.0017 - accuracy: 1.0000 - val_loss: 0.0017 - val_accuracy: 1.0000\n",
      "Epoch 92/200\n",
      "68/71 [===========================>..] - ETA: 0s - loss: 0.0016 - accuracy: 1.0000\n",
      "Epoch 00092: val_loss improved from 0.00158 to 0.00150, saving model to Model\\pose.hdf5\n",
      "71/71 [==============================] - 0s 6ms/sample - loss: 0.0016 - accuracy: 1.0000 - val_loss: 0.0015 - val_accuracy: 1.0000\n",
      "Epoch 93/200\n",
      "70/71 [============================>.] - ETA: 0s - loss: 0.0015 - accuracy: 1.0000\n",
      "Epoch 00093: val_loss improved from 0.00150 to 0.00145, saving model to Model\\pose.hdf5\n",
      "71/71 [==============================] - 0s 6ms/sample - loss: 0.0015 - accuracy: 1.0000 - val_loss: 0.0014 - val_accuracy: 1.0000\n",
      "Epoch 94/200\n",
      "68/71 [===========================>..] - ETA: 0s - loss: 0.0014 - accuracy: 1.0000\n",
      "Epoch 00094: val_loss improved from 0.00145 to 0.00135, saving model to Model\\pose.hdf5\n",
      "71/71 [==============================] - 0s 6ms/sample - loss: 0.0014 - accuracy: 1.0000 - val_loss: 0.0013 - val_accuracy: 1.0000\n",
      "Epoch 95/200\n",
      "66/71 [==========================>...] - ETA: 0s - loss: 0.0014 - accuracy: 1.0000\n",
      "Epoch 00095: val_loss did not improve from 0.00135\n",
      "71/71 [==============================] - 0s 5ms/sample - loss: 0.0014 - accuracy: 1.0000 - val_loss: 0.0014 - val_accuracy: 1.0000\n",
      "Epoch 96/200\n",
      "58/71 [=======================>......] - ETA: 0s - loss: 0.0013 - accuracy: 1.0000\n",
      "Epoch 00096: val_loss improved from 0.00135 to 0.00127, saving model to Model\\pose.hdf5\n",
      "71/71 [==============================] - 0s 6ms/sample - loss: 0.0013 - accuracy: 1.0000 - val_loss: 0.0013 - val_accuracy: 1.0000\n",
      "Epoch 97/200\n",
      "68/71 [===========================>..] - ETA: 0s - loss: 0.0013 - accuracy: 1.0000\n",
      "Epoch 00097: val_loss improved from 0.00127 to 0.00122, saving model to Model\\pose.hdf5\n",
      "71/71 [==============================] - 0s 6ms/sample - loss: 0.0013 - accuracy: 1.0000 - val_loss: 0.0012 - val_accuracy: 1.0000\n",
      "Epoch 98/200\n",
      "64/71 [==========================>...] - ETA: 0s - loss: 0.0013 - accuracy: 1.0000\n",
      "Epoch 00098: val_loss improved from 0.00122 to 0.00121, saving model to Model\\pose.hdf5\n",
      "71/71 [==============================] - 0s 7ms/sample - loss: 0.0013 - accuracy: 1.0000 - val_loss: 0.0012 - val_accuracy: 1.0000\n",
      "Epoch 99/200\n",
      "64/71 [==========================>...] - ETA: 0s - loss: 0.0012 - accuracy: 1.0000\n",
      "Epoch 00099: val_loss improved from 0.00121 to 0.00116, saving model to Model\\pose.hdf5\n",
      "71/71 [==============================] - 0s 7ms/sample - loss: 0.0012 - accuracy: 1.0000 - val_loss: 0.0012 - val_accuracy: 1.0000\n",
      "Epoch 100/200\n",
      "66/71 [==========================>...] - ETA: 0s - loss: 0.0012 - accuracy: 1.0000\n",
      "Epoch 00100: val_loss improved from 0.00116 to 0.00113, saving model to Model\\pose.hdf5\n",
      "71/71 [==============================] - 0s 6ms/sample - loss: 0.0012 - accuracy: 1.0000 - val_loss: 0.0011 - val_accuracy: 1.0000\n",
      "Epoch 101/200\n",
      "66/71 [==========================>...] - ETA: 0s - loss: 0.0011 - accuracy: 1.0000\n",
      "Epoch 00101: val_loss improved from 0.00113 to 0.00108, saving model to Model\\pose.hdf5\n",
      "71/71 [==============================] - 0s 6ms/sample - loss: 0.0011 - accuracy: 1.0000 - val_loss: 0.0011 - val_accuracy: 1.0000\n",
      "Epoch 102/200\n",
      "64/71 [==========================>...] - ETA: 0s - loss: 0.0011 - accuracy: 1.0000\n",
      "Epoch 00102: val_loss improved from 0.00108 to 0.00107, saving model to Model\\pose.hdf5\n",
      "71/71 [==============================] - 0s 6ms/sample - loss: 0.0011 - accuracy: 1.0000 - val_loss: 0.0011 - val_accuracy: 1.0000\n",
      "Epoch 103/200\n",
      "70/71 [============================>.] - ETA: 0s - loss: 0.0010 - accuracy: 1.0000\n",
      "Epoch 00103: val_loss improved from 0.00107 to 0.00098, saving model to Model\\pose.hdf5\n",
      "71/71 [==============================] - 0s 6ms/sample - loss: 0.0010 - accuracy: 1.0000 - val_loss: 9.7996e-04 - val_accuracy: 1.0000\n",
      "Epoch 104/200\n",
      "66/71 [==========================>...] - ETA: 0s - loss: 0.0010 - accuracy: 1.0000\n",
      "Epoch 00104: val_loss did not improve from 0.00098\n",
      "71/71 [==============================] - 0s 5ms/sample - loss: 0.0010 - accuracy: 1.0000 - val_loss: 0.0010 - val_accuracy: 1.0000\n",
      "Epoch 105/200\n",
      "64/71 [==========================>...] - ETA: 0s - loss: 0.0010 - accuracy: 1.0000\n",
      "Epoch 00105: val_loss improved from 0.00098 to 0.00097, saving model to Model\\pose.hdf5\n",
      "71/71 [==============================] - 0s 7ms/sample - loss: 0.0010 - accuracy: 1.0000 - val_loss: 9.6616e-04 - val_accuracy: 1.0000\n",
      "Epoch 106/200\n",
      "64/71 [==========================>...] - ETA: 0s - loss: 0.0010 - accuracy: 1.0000  \n",
      "Epoch 00106: val_loss did not improve from 0.00097\n",
      "71/71 [==============================] - 0s 5ms/sample - loss: 0.0010 - accuracy: 1.0000 - val_loss: 0.0011 - val_accuracy: 1.0000\n",
      "Epoch 107/200\n",
      "66/71 [==========================>...] - ETA: 0s - loss: 9.9684e-04 - accuracy: 1.0000\n",
      "Epoch 00107: val_loss improved from 0.00097 to 0.00092, saving model to Model\\pose.hdf5\n",
      "71/71 [==============================] - 0s 6ms/sample - loss: 9.9176e-04 - accuracy: 1.0000 - val_loss: 9.2223e-04 - val_accuracy: 1.0000\n",
      "Epoch 108/200\n",
      "68/71 [===========================>..] - ETA: 0s - loss: 9.4812e-04 - accuracy: 1.0000\n",
      "Epoch 00108: val_loss did not improve from 0.00092\n",
      "\n",
      "Epoch 00108: ReduceLROnPlateau reducing learning rate to 0.00010000000474974513.\n",
      "71/71 [==============================] - 0s 5ms/sample - loss: 9.5234e-04 - accuracy: 1.0000 - val_loss: 9.5173e-04 - val_accuracy: 1.0000\n",
      "Epoch 109/200\n",
      "66/71 [==========================>...] - ETA: 0s - loss: 9.3011e-04 - accuracy: 1.0000\n",
      "Epoch 00109: val_loss did not improve from 0.00092\n",
      "71/71 [==============================] - 0s 5ms/sample - loss: 9.3856e-04 - accuracy: 1.0000 - val_loss: 9.3440e-04 - val_accuracy: 1.0000\n",
      "Epoch 110/200\n",
      "60/71 [========================>.....] - ETA: 0s - loss: 9.4353e-04 - accuracy: 1.0000\n",
      "Epoch 00110: val_loss improved from 0.00092 to 0.00092, saving model to Model\\pose.hdf5\n",
      "71/71 [==============================] - 0s 7ms/sample - loss: 9.3906e-04 - accuracy: 1.0000 - val_loss: 9.1945e-04 - val_accuracy: 1.0000\n",
      "Epoch 111/200\n",
      "68/71 [===========================>..] - ETA: 0s - loss: 9.2289e-04 - accuracy: 1.0000\n",
      "Epoch 00111: val_loss improved from 0.00092 to 0.00091, saving model to Model\\pose.hdf5\n",
      "71/71 [==============================] - 0s 6ms/sample - loss: 9.2074e-04 - accuracy: 1.0000 - val_loss: 9.0945e-04 - val_accuracy: 1.0000\n",
      "Epoch 112/200\n",
      "66/71 [==========================>...] - ETA: 0s - loss: 9.1195e-04 - accuracy: 1.0000\n",
      "Epoch 00112: val_loss improved from 0.00091 to 0.00090, saving model to Model\\pose.hdf5\n",
      "71/71 [==============================] - 0s 6ms/sample - loss: 9.1272e-04 - accuracy: 1.0000 - val_loss: 8.9702e-04 - val_accuracy: 1.0000\n",
      "Epoch 113/200\n",
      "62/71 [=========================>....] - ETA: 0s - loss: 9.2811e-04 - accuracy: 1.0000\n",
      "Epoch 00113: val_loss improved from 0.00090 to 0.00089, saving model to Model\\pose.hdf5\n",
      "\n",
      "Epoch 00113: ReduceLROnPlateau reducing learning rate to 1.0000000474974514e-05.\n",
      "71/71 [==============================] - 0s 6ms/sample - loss: 9.2263e-04 - accuracy: 1.0000 - val_loss: 8.9263e-04 - val_accuracy: 1.0000\n",
      "Epoch 114/200\n",
      "64/71 [==========================>...] - ETA: 0s - loss: 8.8795e-04 - accuracy: 1.0000\n",
      "Epoch 00114: val_loss improved from 0.00089 to 0.00089, saving model to Model\\pose.hdf5\n",
      "71/71 [==============================] - 0s 7ms/sample - loss: 8.8714e-04 - accuracy: 1.0000 - val_loss: 8.9227e-04 - val_accuracy: 1.0000\n",
      "Epoch 115/200\n",
      "66/71 [==========================>...] - ETA: 0s - loss: 9.1531e-04 - accuracy: 1.0000\n",
      "Epoch 00115: val_loss did not improve from 0.00089\n",
      "71/71 [==============================] - 0s 5ms/sample - loss: 9.1440e-04 - accuracy: 1.0000 - val_loss: 8.9279e-04 - val_accuracy: 1.0000\n",
      "Epoch 116/200\n",
      "70/71 [============================>.] - ETA: 0s - loss: 9.1322e-04 - accuracy: 1.0000\n",
      "Epoch 00116: val_loss did not improve from 0.00089\n",
      "71/71 [==============================] - 0s 5ms/sample - loss: 9.1229e-04 - accuracy: 1.0000 - val_loss: 8.9271e-04 - val_accuracy: 1.0000\n",
      "Epoch 117/200\n",
      "66/71 [==========================>...] - ETA: 0s - loss: 0.0010 - accuracy: 1.0000\n",
      "Epoch 00117: val_loss did not improve from 0.00089\n",
      "71/71 [==============================] - 0s 5ms/sample - loss: 0.0010 - accuracy: 1.0000 - val_loss: 8.9553e-04 - val_accuracy: 1.0000\n",
      "Epoch 118/200\n",
      "64/71 [==========================>...] - ETA: 0s - loss: 9.0040e-04 - accuracy: 1.0000\n",
      "Epoch 00118: val_loss did not improve from 0.00089\n",
      "\n",
      "Epoch 00118: ReduceLROnPlateau reducing learning rate to 1.0000000656873453e-06.\n",
      "71/71 [==============================] - 0s 5ms/sample - loss: 8.9902e-04 - accuracy: 1.0000 - val_loss: 8.9554e-04 - val_accuracy: 1.0000\n",
      "Epoch 119/200\n",
      "66/71 [==========================>...] - ETA: 0s - loss: 9.0303e-04 - accuracy: 1.0000\n",
      "Epoch 00119: val_loss did not improve from 0.00089\n",
      "71/71 [==============================] - 0s 5ms/sample - loss: 9.0194e-04 - accuracy: 1.0000 - val_loss: 8.9577e-04 - val_accuracy: 1.0000\n",
      "Epoch 00119: early stopping\n"
     ]
    },
    {
     "data": {
      "text/plain": [
       "<tensorflow.python.keras.callbacks.History at 0x1d0d531eb70>"
      ]
     },
     "execution_count": 475,
     "metadata": {},
     "output_type": "execute_result"
    }
   ],
   "source": [
    "trainModel.fit(x=trainData, y=trainLabel,\n",
    "              batch_size=BATCH_SIZE,\n",
    "              validation_data=(testData,testLabel),\n",
    "              epochs=EPOCH,\n",
    "              callbacks=callbacks_list)"
   ]
  },
  {
   "cell_type": "code",
   "execution_count": 476,
   "metadata": {},
   "outputs": [],
   "source": [
    "inferModel.load_weights(modelpath)\n",
    "inferModel.compile(loss=\"binary_crossentropy\", \n",
    "                  optimizer=optimizer,\n",
    "                  metrics=[\"accuracy\"])"
   ]
  },
  {
   "cell_type": "code",
   "execution_count": 477,
   "metadata": {},
   "outputs": [
    {
     "name": "stdout",
     "output_type": "stream",
     "text": [
      "Best accuracy (on testing dataset): 72.22%\n",
      "              precision    recall  f1-score   support\n",
      "\n",
      "     PushUps     0.7222    1.0000    0.8387        13\n",
      "  NotPushUps     0.0000    0.0000    0.0000         5\n",
      "\n",
      "    accuracy                         0.7222        18\n",
      "   macro avg     0.3611    0.5000    0.4194        18\n",
      "weighted avg     0.5216    0.7222    0.6057        18\n",
      "\n",
      "[[13  0]\n",
      " [ 5  0]]\n"
     ]
    },
    {
     "name": "stderr",
     "output_type": "stream",
     "text": [
      "D:\\Anaconda3\\envs\\vse\\lib\\site-packages\\sklearn\\metrics\\classification.py:1437: UndefinedMetricWarning: Precision and F-score are ill-defined and being set to 0.0 in labels with no predicted samples.\n",
      "  'precision', 'predicted', average, warn_for)\n"
     ]
    }
   ],
   "source": [
    "pred = inferModel.predict(testData, batch_size=BATCH_SIZE)\n",
    "predout = np.argmax(pred, axis=1)\n",
    "# testout = np.argmax(testLabel, axis=1)\n",
    "\n",
    "testScores = metrics.accuracy_score(testLabel, predout)\n",
    "confusion  = metrics.confusion_matrix(testLabel, predout)\n",
    "\n",
    "print(\"Best accuracy (on testing dataset): %.2f%%\" % (testScores*100))\n",
    "print(metrics.classification_report(testLabel,predout,target_names=labels,digits=4))\n",
    "print(confusion)"
   ]
  },
  {
   "cell_type": "code",
   "execution_count": 478,
   "metadata": {},
   "outputs": [
    {
     "data": {
      "image/png": "[encoded data removed]",
      "text/plain": [
       "<Figure size 432x288 with 2 Axes>"
      ]
     },
     "metadata": {
      "needs_background": "light"
     },
     "output_type": "display_data"
    }
   ],
   "source": [
    "records = pd.read_csv(modelname +'.csv')\n",
    "plt.figure()\n",
    "plt.subplot(211)\n",
    "plt.plot(records['val_loss'])\n",
    "plt.plot(records['loss'])\n",
    "plt.yticks([0.00,0.40,0.60,0.80])\n",
    "plt.title('Loss value',fontsize=12)\n",
    "\n",
    "ax = plt.gca()\n",
    "ax.set_xticklabels([])\n",
    "\n",
    "plt.subplot(212)\n",
    "plt.plot(records['val_accuracy'])\n",
    "plt.plot(records['accuracy'])\n",
    "plt.yticks([0.6,0.7,0.8,0.9])\n",
    "plt.title('Accuracy',fontsize=12)\n",
    "plt.show()"
   ]
  },
  {
   "cell_type": "code",
   "execution_count": null,
   "metadata": {},
   "outputs": [],
   "source": []
  }
 ],
 "metadata": {
  "kernelspec": {
   "display_name": "Python 3",
   "language": "python",
   "name": "python3"
  },
  "language_info": {
   "codemirror_mode": {
    "name": "ipython",
    "version": 3
   },
   "file_extension": ".py",
   "mimetype": "text/x-python",
   "name": "python",
   "nbconvert_exporter": "python",
   "pygments_lexer": "ipython3",
   "version": "3.6.7"
  }
 },
 "nbformat": 4,
 "nbformat_minor": 4
}
