{
 "cells": [
  {
   "cell_type": "markdown",
   "metadata": {},
   "source": [
    "### ISS VSE CA2 Part2"
   ]
  },
  {
   "cell_type": "markdown",
   "metadata": {},
   "source": [
    "#### By: Kenneth Goh (A0198544N), Raymond Ng (A0198543R), Tan Heng Han (A0198502B)"
   ]
  },
  {
   "cell_type": "code",
   "execution_count": 1,
   "metadata": {},
   "outputs": [],
   "source": [
    "import cv2\n",
    "import os\n",
    "import math\n",
    "import time\n",
    "import pickle\n",
    "from collections import Counter\n",
    "from itertools import repeat\n",
    "import pandas as pd\n",
    "import numpy as np\n",
    "import matplotlib.pyplot as plt\n",
    "%matplotlib inline\n",
    "\n",
    "from glob import glob\n",
    "from tqdm import tqdm\n",
    "\n",
    "from tensorflow.keras.layers import Activation\n",
    "from tensorflow.keras.layers import Conv2D\n",
    "from tensorflow.keras.layers import Dropout\n",
    "from tensorflow.keras.layers import Flatten\n",
    "from tensorflow.keras.layers import Dense\n",
    "from tensorflow.keras.layers import Input\n",
    "from tensorflow.keras.layers import BatchNormalization\n",
    "from tensorflow.keras.models import Model\n",
    "from tensorflow.keras.callbacks import ModelCheckpoint\n",
    "from tensorflow.keras.callbacks import CSVLogger\n",
    "from tensorflow.keras.callbacks import EarlyStopping\n",
    "from tensorflow.keras.callbacks import ReduceLROnPlateau\n",
    "from tensorflow.keras.optimizers import Adam\n",
    "from tensorflow.keras.initializers import he_normal\n",
    "from tensorflow.keras.regularizers import l2\n",
    "\n",
    "import sklearn.metrics as metrics\n",
    "from sklearn.model_selection import train_test_split\n",
    "from sklearn.preprocessing import OneHotEncoder"
   ]
  },
  {
   "cell_type": "markdown",
   "metadata": {},
   "source": [
    "### Config"
   ]
  },
  {
   "cell_type": "code",
   "execution_count": 2,
   "metadata": {},
   "outputs": [],
   "source": [
    "# Config\n",
    "modelInWidth = 368\n",
    "modelInHeight = 368\n",
    "TEST_SIZE = 0.2\n",
    "BATCH_SIZE = 2\n",
    "EPOCH = 200\n",
    "labels = ['NotPushUps', 'PushUps']"
   ]
  },
  {
   "cell_type": "markdown",
   "metadata": {},
   "source": [
    "### Load and slice videos for training\n",
    "Slice training videos into 5hz frames for model input\n",
    "Data set:\n",
    "1. Push up videos\n",
    "2. Mixture of non push up videos"
   ]
  },
  {
   "cell_type": "code",
   "execution_count": 3,
   "metadata": {},
   "outputs": [
    {
     "data": {
      "text/html": [
       "<div>\n",
       "<style scoped>\n",
       "    .dataframe tbody tr th:only-of-type {\n",
       "        vertical-align: middle;\n",
       "    }\n",
       "\n",
       "    .dataframe tbody tr th {\n",
       "        vertical-align: top;\n",
       "    }\n",
       "\n",
       "    .dataframe thead th {\n",
       "        text-align: right;\n",
       "    }\n",
       "</style>\n",
       "<table border=\"1\" class=\"dataframe\">\n",
       "  <thead>\n",
       "    <tr style=\"text-align: right;\">\n",
       "      <th></th>\n",
       "      <th>video_name</th>\n",
       "      <th>video_label</th>\n",
       "    </tr>\n",
       "  </thead>\n",
       "  <tbody>\n",
       "    <tr>\n",
       "      <th>0</th>\n",
       "      <td>data\\NotPushUps\\v_PullUps_g01_c01.avi</td>\n",
       "      <td>NotPushUps</td>\n",
       "    </tr>\n",
       "    <tr>\n",
       "      <th>1</th>\n",
       "      <td>data\\NotPushUps\\v_PullUps_g01_c02.avi</td>\n",
       "      <td>NotPushUps</td>\n",
       "    </tr>\n",
       "    <tr>\n",
       "      <th>2</th>\n",
       "      <td>data\\NotPushUps\\v_PullUps_g01_c03.avi</td>\n",
       "      <td>NotPushUps</td>\n",
       "    </tr>\n",
       "    <tr>\n",
       "      <th>3</th>\n",
       "      <td>data\\NotPushUps\\v_PullUps_g01_c04.avi</td>\n",
       "      <td>NotPushUps</td>\n",
       "    </tr>\n",
       "    <tr>\n",
       "      <th>4</th>\n",
       "      <td>data\\NotPushUps\\v_PullUps_g02_c01.avi</td>\n",
       "      <td>NotPushUps</td>\n",
       "    </tr>\n",
       "    <tr>\n",
       "      <th>...</th>\n",
       "      <td>...</td>\n",
       "      <td>...</td>\n",
       "    </tr>\n",
       "    <tr>\n",
       "      <th>215</th>\n",
       "      <td>data\\PushUps\\Dc30U3MAzWU.mp4</td>\n",
       "      <td>PushUps</td>\n",
       "    </tr>\n",
       "    <tr>\n",
       "      <th>216</th>\n",
       "      <td>data\\PushUps\\e1.mp4</td>\n",
       "      <td>PushUps</td>\n",
       "    </tr>\n",
       "    <tr>\n",
       "      <th>217</th>\n",
       "      <td>data\\PushUps\\f1.mp4</td>\n",
       "      <td>PushUps</td>\n",
       "    </tr>\n",
       "    <tr>\n",
       "      <th>218</th>\n",
       "      <td>data\\PushUps\\kG7YKyngVLU.mp4</td>\n",
       "      <td>PushUps</td>\n",
       "    </tr>\n",
       "    <tr>\n",
       "      <th>219</th>\n",
       "      <td>data\\PushUps\\m408i9NFQIY.mp4</td>\n",
       "      <td>PushUps</td>\n",
       "    </tr>\n",
       "  </tbody>\n",
       "</table>\n",
       "<p>220 rows × 2 columns</p>\n",
       "</div>"
      ],
      "text/plain": [
       "                                video_name video_label\n",
       "0    data\\NotPushUps\\v_PullUps_g01_c01.avi  NotPushUps\n",
       "1    data\\NotPushUps\\v_PullUps_g01_c02.avi  NotPushUps\n",
       "2    data\\NotPushUps\\v_PullUps_g01_c03.avi  NotPushUps\n",
       "3    data\\NotPushUps\\v_PullUps_g01_c04.avi  NotPushUps\n",
       "4    data\\NotPushUps\\v_PullUps_g02_c01.avi  NotPushUps\n",
       "..                                     ...         ...\n",
       "215           data\\PushUps\\Dc30U3MAzWU.mp4     PushUps\n",
       "216                    data\\PushUps\\e1.mp4     PushUps\n",
       "217                    data\\PushUps\\f1.mp4     PushUps\n",
       "218           data\\PushUps\\kG7YKyngVLU.mp4     PushUps\n",
       "219           data\\PushUps\\m408i9NFQIY.mp4     PushUps\n",
       "\n",
       "[220 rows x 2 columns]"
      ]
     },
     "execution_count": 3,
     "metadata": {},
     "output_type": "execute_result"
    }
   ],
   "source": [
    "# Get filenames and labels for data\n",
    "data_path = 'data'\n",
    "files = pd.DataFrame()\n",
    "filenames = []\n",
    "filelabels = []\n",
    "for lbl in labels:\n",
    "    for ext in ('*.avi', '*.mp4'):\n",
    "        path = os.path.join(data_path, lbl)\n",
    "        filename = glob(os.path.join(path, ext))\n",
    "        if filename: filenames.append(filename)\n",
    "        if filename: \n",
    "            for idx in range(len(filename)):\n",
    "                filelabels.append(lbl)\n",
    "\n",
    "files['video_name'] = [item for sublist in filenames for item in sublist]\n",
    "files['video_label'] = filelabels\n",
    "files"
   ]
  },
  {
   "cell_type": "code",
   "execution_count": 4,
   "metadata": {},
   "outputs": [],
   "source": [
    "def tryCreateVideoFolder(folderName):\n",
    "    try:\n",
    "        path = os.path.join('data/images/', folderName)\n",
    "        if not os.path.isdir(path):\n",
    "            os.mkdir(path)\n",
    "    except:\n",
    "        print(f'Creation of directory {folderName} failed')"
   ]
  },
  {
   "cell_type": "code",
   "execution_count": 5,
   "metadata": {},
   "outputs": [
    {
     "name": "stderr",
     "output_type": "stream",
     "text": [
      "100%|███████████████████████████████████████████████████████████████████████████████████████████████████████████████████████████████████████████████████████████████████████████████████████████████████████████████████████████████████| 220/220 [01:22<00:00,  2.68it/s]\n"
     ]
    }
   ],
   "source": [
    "# Slice and store the frames from training videos\n",
    "for i in tqdm(range(files.shape[0])):\n",
    "    count = 0\n",
    "    tryCreateVideoFolder(files['video_label'][i])\n",
    "    videoFile = files['video_name'][i]\n",
    "    cap = cv2.VideoCapture(videoFile)   # capturing the video from the given path\n",
    "    frameRate = cap.get(5) #frame rate\n",
    "    while(cap.isOpened()):\n",
    "        frameId = cap.get(1) #current frame number\n",
    "        ret, frame = cap.read()\n",
    "        if (ret != True):\n",
    "            break\n",
    "        if (frameId % 2 == 0):\n",
    "            # storing the frames in a new folder named train_1\n",
    "            filename ='data/images/' + files['video_label'][i] + '/' + videoFile.split('\\\\')[2].replace('.avi','').replace('.mp4','') +\"_frame%d.jpg\" % count;count+=1\n",
    "            cv2.imwrite(filename, frame)\n",
    "    cap.release()"
   ]
  },
  {
   "cell_type": "code",
   "execution_count": 6,
   "metadata": {},
   "outputs": [
    {
     "name": "stderr",
     "output_type": "stream",
     "text": [
      "100%|████████████████████████████████████████████████████████████████████████████████████████████████████████████████████████████████████████████████████████████████████████████████████████████████████████████████████████████████| 6912/6912 [00:38<00:00, 178.19it/s]\n",
      "100%|████████████████████████████████████████████████████████████████████████████████████████████████████████████████████████████████████████████████████████████████████████████████████████████████████████████████████████████████| 6943/6943 [01:02<00:00, 111.86it/s]"
     ]
    },
    {
     "name": "stdout",
     "output_type": "stream",
     "text": [
      "Wall time: 1min 40s\n"
     ]
    },
    {
     "name": "stderr",
     "output_type": "stream",
     "text": [
      "\n"
     ]
    },
    {
     "data": {
      "text/plain": [
       "(13855, 2)"
      ]
     },
     "execution_count": 6,
     "metadata": {},
     "output_type": "execute_result"
    }
   ],
   "source": [
    "%%time\n",
    "# Read each images and their label into a dataframe\n",
    "frames_n_labels = pd.DataFrame(columns=['frame', 'label'])\n",
    "images_dir = glob('data/images/*/')\n",
    "for idir in images_dir:\n",
    "    iclss = idir.split('\\\\')[1]\n",
    "    ifiles = glob(idir + '/*.jpg')\n",
    "    for idx in tqdm(range(len(ifiles))):\n",
    "        frame = cv2.imread(ifiles[idx])\n",
    "        frames_n_labels = frames_n_labels.append(\n",
    "            {'frame': frame,\n",
    "             'label': iclss}, ignore_index=True)\n",
    "frames_n_labels.shape"
   ]
  },
  {
   "cell_type": "code",
   "execution_count": 7,
   "metadata": {},
   "outputs": [
    {
     "data": {
      "text/plain": [
       "Text(0.5, 1.0, 'Frame Distribution')"
      ]
     },
     "execution_count": 7,
     "metadata": {},
     "output_type": "execute_result"
    },
    {
     "data": {
      "image/png": "[encoded data removed]",
      "text/plain": [
       "<Figure size 1440x720 with 1 Axes>"
      ]
     },
     "metadata": {
      "needs_background": "light"
     },
     "output_type": "display_data"
    }
   ],
   "source": [
    "label_count = Counter(frames_n_labels['label'])\n",
    "plt.figure(figsize=(20,10))\n",
    "plt.bar(label_count.keys(), label_count.values())\n",
    "plt.title('Frame Distribution')"
   ]
  },
  {
   "cell_type": "markdown",
   "metadata": {},
   "source": [
    "### Load OpenPose models"
   ]
  },
  {
   "cell_type": "markdown",
   "metadata": {},
   "source": [
    "#### Instructions to get openpose models\n",
    "1. Clone https://github.com/CMU-Perceptual-Computing-Lab/openpose\n",
    "2. Open a console and run **openpose/models/getModels.bat**\n",
    "3. Copy contents from **openpose/models/pose/coco** to **Model/coco**"
   ]
  },
  {
   "cell_type": "code",
   "execution_count": 8,
   "metadata": {},
   "outputs": [],
   "source": [
    "PROTO_FILE = 'Model/coco/pose_deploy_linevec.prototxt'\n",
    "WEIGHTS_FILE = 'Model/coco/pose_iter_440000.caffemodel'\n",
    "BODY_PARTS = { \"Nose\": 0, \"Neck\": 1, \"RShoulder\": 2, \"RElbow\": 3, \"RWrist\": 4,\n",
    "               \"LShoulder\": 5, \"LElbow\": 6, \"LWrist\": 7, \"RHip\": 8, \"RKnee\": 9,\n",
    "               \"RAnkle\": 10, \"LHip\": 11, \"LKnee\": 12, \"LAnkle\": 13, \"REye\": 14,\n",
    "               \"LEye\": 15, \"REar\": 16, \"LEar\": 17, \"Background\": 18 }\n",
    "POSE_PAIRS = [ [\"Neck\", \"RShoulder\"], [\"Neck\", \"LShoulder\"], [\"RShoulder\", \"RElbow\"],\n",
    "               [\"RElbow\", \"RWrist\"], [\"LShoulder\", \"LElbow\"], [\"LElbow\", \"LWrist\"],\n",
    "               [\"Neck\", \"RHip\"], [\"RHip\", \"RKnee\"], [\"RKnee\", \"RAnkle\"], [\"Neck\", \"LHip\"],\n",
    "               [\"LHip\", \"LKnee\"], [\"LKnee\", \"LAnkle\"], [\"Neck\", \"Nose\"], [\"Nose\", \"REye\"],\n",
    "               [\"REye\", \"REar\"], [\"Nose\", \"LEye\"], [\"LEye\", \"LEar\"] ]"
   ]
  },
  {
   "cell_type": "code",
   "execution_count": 9,
   "metadata": {},
   "outputs": [],
   "source": [
    "# Load openpose model via Opencv\n",
    "try:\n",
    "    net = cv2.dnn.readNetFromCaffe(PROTO_FILE, WEIGHTS_FILE)\n",
    "except:\n",
    "    raise Exception('Error reading model, check model proto and weights file.')"
   ]
  },
  {
   "cell_type": "markdown",
   "metadata": {},
   "source": [
    "### Run Openpose inference for each frame\n",
    "Save heat maps for training"
   ]
  },
  {
   "cell_type": "code",
   "execution_count": 10,
   "metadata": {},
   "outputs": [
    {
     "name": "stderr",
     "output_type": "stream",
     "text": [
      "100%|█████████████████████████████████████████████████████████████████████████████████████████████████████████████████████████████████████████████████████████████████████████████████████████████████████████████████████████████| 13855/13855 [6:15:58<00:00,  1.63s/it]"
     ]
    },
    {
     "name": "stdout",
     "output_type": "stream",
     "text": [
      "Wall time: 6h 15min 58s\n"
     ]
    },
    {
     "name": "stderr",
     "output_type": "stream",
     "text": [
      "\n"
     ]
    }
   ],
   "source": [
    "%%time\n",
    "netout = []\n",
    "for idx in tqdm(range(len(frames_n_labels['frame']))):\n",
    "    currFrame = frames_n_labels['frame'][idx]\n",
    "    inBlob = cv2.dnn.blobFromImage(currFrame, 1.0/255, (modelInWidth, modelInHeight), (0,0,0), swapRB=False, crop=False)\n",
    "    net.setInput(inBlob)\n",
    "    netout.append(np.swapaxes(np.squeeze(net.forward(), axis=0),0,2)) # shape=(46,46,57)"
   ]
  },
  {
   "cell_type": "markdown",
   "metadata": {},
   "source": [
    "### Pickle netout and load back"
   ]
  },
  {
   "cell_type": "code",
   "execution_count": 11,
   "metadata": {},
   "outputs": [
    {
     "name": "stdout",
     "output_type": "stream",
     "text": [
      "Wall time: 2min 36s\n"
     ]
    }
   ],
   "source": [
    "%%time\n",
    "with open('pose.pickle','wb') as f:\n",
    "    pickle.dump([frames_n_labels, netout], f)"
   ]
  },
  {
   "cell_type": "code",
   "execution_count": 12,
   "metadata": {},
   "outputs": [
    {
     "name": "stdout",
     "output_type": "stream",
     "text": [
      "Wall time: 24.6 s\n"
     ]
    }
   ],
   "source": [
    "%%time\n",
    "with open('pose.pickle','rb') as f:\n",
    "    frames_n_labels, netout = pickle.load(f)"
   ]
  },
  {
   "cell_type": "markdown",
   "metadata": {},
   "source": [
    "### Check image and pose"
   ]
  },
  {
   "cell_type": "code",
   "execution_count": 13,
   "metadata": {},
   "outputs": [],
   "source": [
    "# Get random image\n",
    "ridx = np.random.randint(len(netout)-1)\n",
    "testout = np.swapaxes(netout[ridx],2,0) # shape=(57,46,46)\n",
    "img = frames_n_labels['frame'][ridx]\n",
    "testimg = cv2.cvtColor(img, cv2.COLOR_BGR2RGB)\n",
    "frameWidth = testimg.shape[1]\n",
    "frameHeight = testimg.shape[0]"
   ]
  },
  {
   "cell_type": "code",
   "execution_count": 14,
   "metadata": {},
   "outputs": [],
   "source": [
    "points = []\n",
    "for i in range(len(BODY_PARTS)):\n",
    "    # Slice heatmap of corresponging body's part.\n",
    "    heatMap = testout[i, :, :]\n",
    " \n",
    "    # Originally, we try to find all the local maximums. To simplify a sample\n",
    "    # we just find a global one. However only a single pose at the same time\n",
    "    # could be detected this way.\n",
    "    _, conf, _, point = cv2.minMaxLoc(heatMap)\n",
    "    x = (frameWidth * point[0]) / testout.shape[2]\n",
    "    y = (frameHeight * point[1]) / testout.shape[1]\n",
    " \n",
    "    # Add a point if it's confidence is higher than threshold.\n",
    "    points.append((int(x), int(y)) if conf > 0.1 else None)"
   ]
  },
  {
   "cell_type": "code",
   "execution_count": 15,
   "metadata": {},
   "outputs": [],
   "source": [
    "for pair in POSE_PAIRS:\n",
    "    partFrom = pair[0]\n",
    "    partTo = pair[1]\n",
    "    assert(partFrom in BODY_PARTS)\n",
    "    assert(partTo in BODY_PARTS)\n",
    " \n",
    "    idFrom = BODY_PARTS[partFrom]\n",
    "    idTo = BODY_PARTS[partTo]\n",
    "    if points[idFrom] and points[idTo]:\n",
    "        cv2.line(testimg, points[idFrom], points[idTo], (255, 74, 0), 2)\n",
    "        cv2.ellipse(testimg, points[idFrom], (4, 4), 0, 0, 360, (255, 255, 255), cv2.FILLED)\n",
    "        cv2.ellipse(testimg, points[idTo], (4, 4), 0, 0, 360, (255, 255, 255), cv2.FILLED)\n",
    "        cv2.putText(testimg, str(idFrom), points[idFrom], cv2.FONT_HERSHEY_SIMPLEX, 0.5, (255, 255, 255),1,cv2.LINE_AA)\n",
    "        cv2.putText(testimg, str(idTo), points[idTo], cv2.FONT_HERSHEY_SIMPLEX, 0.5, (255, 255, 255),1,cv2.LINE_AA)"
   ]
  },
  {
   "cell_type": "code",
   "execution_count": 16,
   "metadata": {},
   "outputs": [
    {
     "data": {
      "image/png": "[encoded data removed]",
      "text/plain": [
       "<Figure size 720x720 with 1 Axes>"
      ]
     },
     "metadata": {
      "needs_background": "light"
     },
     "output_type": "display_data"
    }
   ],
   "source": [
    "plt.figure(figsize=(10,10))\n",
    "plt.imshow(testimg)\n",
    "plt.title('Pose')\n",
    "plt.show()"
   ]
  },
  {
   "cell_type": "markdown",
   "metadata": {},
   "source": [
    "### Prepare training data"
   ]
  },
  {
   "cell_type": "code",
   "execution_count": 17,
   "metadata": {},
   "outputs": [],
   "source": [
    "# Keep only joints keypoints and drop PAFs\n",
    "for idx in range(len(netout)):\n",
    "    netout[idx] = netout[idx][:,:,0:18]\n",
    "netout_stk = np.stack(netout)"
   ]
  },
  {
   "cell_type": "code",
   "execution_count": 18,
   "metadata": {},
   "outputs": [
    {
     "name": "stdout",
     "output_type": "stream",
     "text": [
      "Labels: [NotPushUps, PushUps]\n",
      "First Label: ['NotPushUps']\n",
      "First One Hot Encode: [1. 0.]\n"
     ]
    }
   ],
   "source": [
    "all_lbl = np.asarray(frames_n_labels['label'])\n",
    "all_lbl = all_lbl.reshape(-1,1)\n",
    "oh_lbl = OneHotEncoder(sparse=False).fit_transform(all_lbl)\n",
    "print(f'Labels: [{labels[0]}, {labels[1]}]')\n",
    "print(f'First Label: {all_lbl[0]}')\n",
    "print(f'First One Hot Encode: {oh_lbl[0]}')"
   ]
  },
  {
   "cell_type": "code",
   "execution_count": 19,
   "metadata": {},
   "outputs": [],
   "source": [
    "# Train test split\n",
    "trainData, testData, trainLabel, testLabel = train_test_split(netout_stk, oh_lbl, test_size=TEST_SIZE, random_state=42, shuffle=True)"
   ]
  },
  {
   "cell_type": "code",
   "execution_count": 20,
   "metadata": {},
   "outputs": [
    {
     "name": "stdout",
     "output_type": "stream",
     "text": [
      "trainData shape: (11084, 46, 46, 18)\n",
      "testData shape: (2771, 46, 46, 18)\n",
      "trainLabel shape: (11084, 2)\n",
      "testLabel shape: (2771, 2)\n"
     ]
    }
   ],
   "source": [
    "print(f'trainData shape: {trainData.shape}')\n",
    "print(f'testData shape: {testData.shape}')\n",
    "print(f'trainLabel shape: {trainLabel.shape}')\n",
    "print(f'testLabel shape: {testLabel.shape}')"
   ]
  },
  {
   "cell_type": "markdown",
   "metadata": {},
   "source": [
    "### Training Model"
   ]
  },
  {
   "cell_type": "code",
   "execution_count": 21,
   "metadata": {},
   "outputs": [],
   "source": [
    "def createModel(x, y, features):\n",
    "    ipt = Input(shape=(x, y, features))\n",
    "\n",
    "    x   = Conv2D(32, (3,3), padding='same', strides=(2,2))(ipt)\n",
    "    x   = BatchNormalization()(x)\n",
    "    x   = Activation('relu')(x)\n",
    "    \n",
    "    x   = Conv2D(32, (3,3), padding='same', strides=(2,2))(x)\n",
    "    x   = BatchNormalization()(x)\n",
    "    x   = Activation('relu')(x)\n",
    "    \n",
    "    x   = Conv2D(64, (3,3), padding='same', strides=(2,2))(x)\n",
    "    x   = BatchNormalization()(x)\n",
    "    x   = Activation('relu')(x)\n",
    "    \n",
    "    x   = Conv2D(64, (3,3), padding='same', strides=(2,2))(x)\n",
    "    x   = BatchNormalization()(x)\n",
    "    x   = Activation('relu')(x)\n",
    "    x   = Dropout(0.5)(x)\n",
    "       \n",
    "    x   = Flatten()(x)\n",
    "    x   = Dense(128, activation='relu', kernel_initializer=he_normal(42), kernel_regularizer=l2(0.001))(x)\n",
    "    x   = Dense(64, activation='relu', kernel_initializer=he_normal(42), kernel_regularizer=l2(0.001))(x)\n",
    "    x   = Dense(len(labels), activation='softmax')(x)\n",
    "    \n",
    "    model = Model(ipt, x)\n",
    "    model.compile(loss='categorical_crossentropy', \n",
    "                  optimizer=Adam(), \n",
    "                  metrics=['accuracy'])\n",
    "    \n",
    "    return model"
   ]
  },
  {
   "cell_type": "code",
   "execution_count": 22,
   "metadata": {},
   "outputs": [
    {
     "name": "stdout",
     "output_type": "stream",
     "text": [
      "Model: \"model\"\n",
      "_________________________________________________________________\n",
      "Layer (type)                 Output Shape              Param #   \n",
      "=================================================================\n",
      "input_1 (InputLayer)         [(None, 46, 46, 18)]      0         \n",
      "_________________________________________________________________\n",
      "conv2d (Conv2D)              (None, 23, 23, 32)        5216      \n",
      "_________________________________________________________________\n",
      "batch_normalization (BatchNo (None, 23, 23, 32)        128       \n",
      "_________________________________________________________________\n",
      "activation (Activation)      (None, 23, 23, 32)        0         \n",
      "_________________________________________________________________\n",
      "conv2d_1 (Conv2D)            (None, 12, 12, 32)        9248      \n",
      "_________________________________________________________________\n",
      "batch_normalization_1 (Batch (None, 12, 12, 32)        128       \n",
      "_________________________________________________________________\n",
      "activation_1 (Activation)    (None, 12, 12, 32)        0         \n",
      "_________________________________________________________________\n",
      "conv2d_2 (Conv2D)            (None, 6, 6, 64)          18496     \n",
      "_________________________________________________________________\n",
      "batch_normalization_2 (Batch (None, 6, 6, 64)          256       \n",
      "_________________________________________________________________\n",
      "activation_2 (Activation)    (None, 6, 6, 64)          0         \n",
      "_________________________________________________________________\n",
      "conv2d_3 (Conv2D)            (None, 3, 3, 64)          36928     \n",
      "_________________________________________________________________\n",
      "batch_normalization_3 (Batch (None, 3, 3, 64)          256       \n",
      "_________________________________________________________________\n",
      "activation_3 (Activation)    (None, 3, 3, 64)          0         \n",
      "_________________________________________________________________\n",
      "dropout (Dropout)            (None, 3, 3, 64)          0         \n",
      "_________________________________________________________________\n",
      "flatten (Flatten)            (None, 576)               0         \n",
      "_________________________________________________________________\n",
      "dense (Dense)                (None, 128)               73856     \n",
      "_________________________________________________________________\n",
      "dense_1 (Dense)              (None, 64)                8256      \n",
      "_________________________________________________________________\n",
      "dense_2 (Dense)              (None, 2)                 130       \n",
      "=================================================================\n",
      "Total params: 152,898\n",
      "Trainable params: 152,514\n",
      "Non-trainable params: 384\n",
      "_________________________________________________________________\n"
     ]
    }
   ],
   "source": [
    "xShape, yShape, featureShape = trainData[0].shape\n",
    "trainModel = createModel(xShape, yShape, featureShape)\n",
    "inferModel = createModel(xShape, yShape, featureShape)\n",
    "trainModel.summary()"
   ]
  },
  {
   "cell_type": "code",
   "execution_count": 23,
   "metadata": {},
   "outputs": [],
   "source": [
    "modelname = 'pose'\n",
    "modelpath = os.path.join('Model', modelname+'.hdf5')\n",
    "checkpoint = ModelCheckpoint(modelpath, \n",
    "                             monitor='val_loss', \n",
    "                             verbose=1, \n",
    "                             save_best_only=True, \n",
    "                             mode='min')\n",
    "csv_logger = CSVLogger(modelname +'.csv')\n",
    "early_stop = EarlyStopping(monitor='val_loss', patience=5, verbose=1, mode='min')\n",
    "reduceLr = ReduceLROnPlateau(monitor='val_loss', patience=5, verbose=1, mode='min')\n",
    "\n",
    "callbacks_list  = [checkpoint, csv_logger, early_stop, reduceLr]"
   ]
  },
  {
   "cell_type": "code",
   "execution_count": 24,
   "metadata": {},
   "outputs": [
    {
     "name": "stdout",
     "output_type": "stream",
     "text": [
      "Train on 11084 samples, validate on 2771 samples\n",
      "Epoch 1/200\n",
      "11082/11084 [============================>.] - ETA: 0s - loss: 0.2295 - accuracy: 0.9671\n",
      "Epoch 00001: val_loss improved from inf to 0.10473, saving model to Model\\pose.hdf5\n",
      "11084/11084 [==============================] - 35s 3ms/sample - loss: 0.2294 - accuracy: 0.9671 - val_loss: 0.1047 - val_accuracy: 0.9877\n",
      "Epoch 2/200\n",
      "11064/11084 [============================>.] - ETA: 0s - loss: 0.0589 - accuracy: 0.9899\n",
      "Epoch 00002: val_loss improved from 0.10473 to 0.05361, saving model to Model\\pose.hdf5\n",
      "11084/11084 [==============================] - 32s 3ms/sample - loss: 0.0588 - accuracy: 0.9899 - val_loss: 0.0536 - val_accuracy: 0.9866\n",
      "Epoch 3/200\n",
      "11082/11084 [============================>.] - ETA: 0s - loss: 0.0369 - accuracy: 0.9934\n",
      "Epoch 00003: val_loss improved from 0.05361 to 0.03139, saving model to Model\\pose.hdf5\n",
      "11084/11084 [==============================] - 32s 3ms/sample - loss: 0.0369 - accuracy: 0.9934 - val_loss: 0.0314 - val_accuracy: 0.9928\n",
      "Epoch 4/200\n",
      "11072/11084 [============================>.] - ETA: 0s - loss: 0.0294 - accuracy: 0.9944\n",
      "Epoch 00004: val_loss did not improve from 0.03139\n",
      "11084/11084 [==============================] - 33s 3ms/sample - loss: 0.0293 - accuracy: 0.9944 - val_loss: 0.0329 - val_accuracy: 0.9917\n",
      "Epoch 5/200\n",
      "11072/11084 [============================>.] - ETA: 0s - loss: 0.0216 - accuracy: 0.9957\n",
      "Epoch 00005: val_loss improved from 0.03139 to 0.01897, saving model to Model\\pose.hdf5\n",
      "11084/11084 [==============================] - 32s 3ms/sample - loss: 0.0216 - accuracy: 0.9957 - val_loss: 0.0190 - val_accuracy: 0.9960\n",
      "Epoch 6/200\n",
      "11078/11084 [============================>.] - ETA: 0s - loss: 0.0173 - accuracy: 0.9968 ETA: 0s - loss: 0.016\n",
      "Epoch 00006: val_loss improved from 0.01897 to 0.01736, saving model to Model\\pose.hdf5\n",
      "11084/11084 [==============================] - 32s 3ms/sample - loss: 0.0173 - accuracy: 0.9968 - val_loss: 0.0174 - val_accuracy: 0.9960\n",
      "Epoch 7/200\n",
      "11074/11084 [============================>.] - ETA: 0s - loss: 0.0151 - accuracy: 0.9973\n",
      "Epoch 00007: val_loss did not improve from 0.01736\n",
      "11084/11084 [==============================] - 32s 3ms/sample - loss: 0.0151 - accuracy: 0.9973 - val_loss: 0.0195 - val_accuracy: 0.9953\n",
      "Epoch 8/200\n",
      "11068/11084 [============================>.] - ETA: 0s - loss: 0.0159 - accuracy: 0.9970\n",
      "Epoch 00008: val_loss did not improve from 0.01736\n",
      "11084/11084 [==============================] - 32s 3ms/sample - loss: 0.0158 - accuracy: 0.9970 - val_loss: 0.0203 - val_accuracy: 0.9939\n",
      "Epoch 9/200\n",
      "11066/11084 [============================>.] - ETA: 0s - loss: 0.0104 - accuracy: 0.9981\n",
      "Epoch 00009: val_loss did not improve from 0.01736\n",
      "11084/11084 [==============================] - 32s 3ms/sample - loss: 0.0104 - accuracy: 0.9981 - val_loss: 0.0188 - val_accuracy: 0.9949\n",
      "Epoch 10/200\n",
      "11066/11084 [============================>.] - ETA: 0s - loss: 0.0123 - accuracy: 0.9979\n",
      "Epoch 00010: val_loss did not improve from 0.01736\n",
      "11084/11084 [==============================] - 32s 3ms/sample - loss: 0.0123 - accuracy: 0.9979 - val_loss: 0.0191 - val_accuracy: 0.9942\n",
      "Epoch 11/200\n",
      "11064/11084 [============================>.] - ETA: 0s - loss: 0.0133 - accuracy: 0.9974\n",
      "Epoch 00011: val_loss did not improve from 0.01736\n",
      "\n",
      "Epoch 00011: ReduceLROnPlateau reducing learning rate to 0.00010000000474974513.\n",
      "11084/11084 [==============================] - 32s 3ms/sample - loss: 0.0132 - accuracy: 0.9974 - val_loss: 0.0192 - val_accuracy: 0.9935\n",
      "Epoch 00011: early stopping\n"
     ]
    },
    {
     "data": {
      "text/plain": [
       "<tensorflow.python.keras.callbacks.History at 0x2cfe092b4e0>"
      ]
     },
     "execution_count": 24,
     "metadata": {},
     "output_type": "execute_result"
    }
   ],
   "source": [
    "trainModel.fit(x=trainData, y=trainLabel,\n",
    "              batch_size=BATCH_SIZE,\n",
    "              validation_data=(testData,testLabel),\n",
    "              epochs=EPOCH,\n",
    "              callbacks=callbacks_list)"
   ]
  },
  {
   "cell_type": "markdown",
   "metadata": {},
   "source": [
    "### Inference and test results"
   ]
  },
  {
   "cell_type": "code",
   "execution_count": 25,
   "metadata": {},
   "outputs": [],
   "source": [
    "inferModel.load_weights(modelpath)\n",
    "inferModel.compile(loss=\"categorical_crossentropy\", \n",
    "                  optimizer=Adam(),\n",
    "                  metrics=[\"accuracy\"])"
   ]
  },
  {
   "cell_type": "code",
   "execution_count": 26,
   "metadata": {},
   "outputs": [
    {
     "name": "stdout",
     "output_type": "stream",
     "text": [
      "Best accuracy (on testing dataset): 99.60%\n",
      "              precision    recall  f1-score   support\n",
      "\n",
      "  NotPushUps     0.9957    0.9964    0.9960      1386\n",
      "     PushUps     0.9964    0.9957    0.9960      1385\n",
      "\n",
      "    accuracy                         0.9960      2771\n",
      "   macro avg     0.9960    0.9960    0.9960      2771\n",
      "weighted avg     0.9960    0.9960    0.9960      2771\n",
      "\n",
      "[[1381    5]\n",
      " [   6 1379]]\n"
     ]
    }
   ],
   "source": [
    "pred = inferModel.predict(testData, batch_size=BATCH_SIZE)\n",
    "predout = np.argmax(pred, axis=1)\n",
    "testout = np.argmax(testLabel, axis=1)\n",
    "\n",
    "testScores = metrics.accuracy_score(testout, predout)\n",
    "confusion  = metrics.confusion_matrix(testout, predout)\n",
    "\n",
    "print(\"Best accuracy (on testing dataset): %.2f%%\" % (testScores*100))\n",
    "print(metrics.classification_report(testout,predout,target_names=labels,digits=4))\n",
    "print(confusion)"
   ]
  },
  {
   "cell_type": "code",
   "execution_count": 30,
   "metadata": {},
   "outputs": [
    {
     "data": {
      "image/png": "[encoded data removed]",
      "text/plain": [
       "<Figure size 432x288 with 2 Axes>"
      ]
     },
     "metadata": {
      "needs_background": "light"
     },
     "output_type": "display_data"
    }
   ],
   "source": [
    "records = pd.read_csv(modelname +'.csv')\n",
    "plt.figure()\n",
    "plt.subplot(211)\n",
    "plt.plot(records['val_loss'])\n",
    "plt.plot(records['loss'])\n",
    "plt.yticks([0.00,0.40,0.60,0.80])\n",
    "plt.title('Loss value',fontsize=12)\n",
    "\n",
    "ax = plt.gca()\n",
    "ax.set_xticklabels([])\n",
    "\n",
    "plt.subplot(212)\n",
    "plt.plot(records['val_accuracy'])\n",
    "plt.plot(records['accuracy'])\n",
    "plt.yticks([0.92,0.94,0.96,0.98])\n",
    "plt.title('Accuracy',fontsize=12)\n",
    "plt.show()"
   ]
  },
  {
   "cell_type": "markdown",
   "metadata": {},
   "source": [
    "### Run Video Prediction"
   ]
  },
  {
   "cell_type": "code",
   "execution_count": 28,
   "metadata": {},
   "outputs": [],
   "source": [
    "videoPath = os.path.join('test_video', '0Q5nKgu2bmM.mp4')\n",
    "outpath   = os.path.join('test_video', 'test7.mp4')\n",
    "vs = cv2.VideoCapture(videoPath)\n",
    "writer = None\n",
    "(W,H) = (None, None)"
   ]
  },
  {
   "cell_type": "code",
   "execution_count": 29,
   "metadata": {},
   "outputs": [
    {
     "name": "stdout",
     "output_type": "stream",
     "text": [
      "Frame 1 Detected: PushUps\n",
      "Frame 2 Detected: PushUps\n",
      "Frame 3 Detected: PushUps\n",
      "Frame 4 Detected: PushUps\n",
      "Frame 5 Detected: PushUps\n",
      "Frame 6 Detected: PushUps\n",
      "Frame 7 Detected: PushUps\n",
      "Frame 8 Detected: PushUps\n",
      "Frame 9 Detected: PushUps\n",
      "Frame 10 Detected: PushUps\n",
      "Frame 11 Detected: PushUps\n",
      "Frame 12 Detected: PushUps\n",
      "Frame 13 Detected: PushUps\n",
      "Frame 14 Detected: PushUps\n",
      "Frame 15 Detected: PushUps\n",
      "Frame 16 Detected: PushUps\n",
      "Frame 17 Detected: PushUps\n",
      "Frame 18 Detected: PushUps\n",
      "Frame 19 Detected: PushUps\n",
      "Frame 20 Detected: PushUps\n",
      "Frame 21 Detected: PushUps\n",
      "Frame 22 Detected: PushUps\n",
      "Frame 23 Detected: PushUps\n",
      "Frame 24 Detected: PushUps\n",
      "Frame 25 Detected: PushUps\n",
      "Frame 26 Detected: PushUps\n",
      "Frame 27 Detected: PushUps\n",
      "Frame 28 Detected: PushUps\n",
      "Frame 29 Detected: PushUps\n",
      "Frame 30 Detected: PushUps\n",
      "Frame 31 Detected: PushUps\n",
      "Frame 32 Detected: PushUps\n",
      "Frame 33 Detected: PushUps\n",
      "Frame 34 Detected: PushUps\n",
      "Frame 35 Detected: PushUps\n",
      "Frame 36 Detected: PushUps\n",
      "Frame 37 Detected: PushUps\n",
      "Frame 38 Detected: PushUps\n",
      "Frame 39 Detected: PushUps\n",
      "Frame 40 Detected: PushUps\n",
      "Frame 41 Detected: PushUps\n",
      "Frame 42 Detected: PushUps\n",
      "Frame 43 Detected: PushUps\n",
      "Frame 44 Detected: PushUps\n",
      "Frame 45 Detected: PushUps\n",
      "Frame 46 Detected: PushUps\n",
      "Frame 47 Detected: PushUps\n",
      "Frame 48 Detected: PushUps\n",
      "Frame 49 Detected: PushUps\n",
      "Frame 50 Detected: PushUps\n",
      "Frame 51 Detected: PushUps\n",
      "Frame 52 Detected: PushUps\n",
      "Frame 53 Detected: PushUps\n",
      "Frame 54 Detected: PushUps\n",
      "Frame 55 Detected: PushUps\n",
      "Frame 56 Detected: PushUps\n",
      "Frame 57 Detected: PushUps\n",
      "Frame 58 Detected: PushUps\n",
      "Frame 59 Detected: PushUps\n",
      "Frame 60 Detected: PushUps\n",
      "Frame 61 Detected: PushUps\n",
      "Frame 62 Detected: PushUps\n",
      "Frame 63 Detected: PushUps\n",
      "Frame 64 Detected: PushUps\n",
      "Frame 65 Detected: PushUps\n",
      "Frame 66 Detected: PushUps\n",
      "Frame 67 Detected: PushUps\n",
      "Frame 68 Detected: PushUps\n",
      "Frame 69 Detected: PushUps\n",
      "Frame 70 Detected: PushUps\n",
      "Frame 71 Detected: PushUps\n",
      "Frame 72 Detected: PushUps\n",
      "Frame 73 Detected: PushUps\n",
      "Frame 74 Detected: PushUps\n",
      "Frame 75 Detected: PushUps\n",
      "Frame 76 Detected: PushUps\n",
      "Frame 77 Detected: PushUps\n",
      "Frame 78 Detected: PushUps\n",
      "Frame 79 Detected: PushUps\n",
      "Frame 80 Detected: PushUps\n",
      "Frame 81 Detected: PushUps\n",
      "Frame 82 Detected: PushUps\n",
      "Frame 83 Detected: PushUps\n",
      "Frame 84 Detected: PushUps\n",
      "Frame 85 Detected: PushUps\n",
      "Frame 86 Detected: PushUps\n",
      "Frame 87 Detected: PushUps\n",
      "Frame 88 Detected: PushUps\n",
      "Frame 89 Detected: PushUps\n",
      "Frame 90 Detected: PushUps\n",
      "Frame 91 Detected: PushUps\n",
      "Frame 92 Detected: PushUps\n",
      "Frame 93 Detected: PushUps\n",
      "Frame 94 Detected: PushUps\n",
      "Frame 95 Detected: PushUps\n",
      "Frame 96 Detected: PushUps\n",
      "Frame 97 Detected: PushUps\n",
      "Frame 98 Detected: PushUps\n",
      "Frame 99 Detected: PushUps\n",
      "Frame 100 Detected: PushUps\n",
      "Frame 101 Detected: PushUps\n",
      "Frame 102 Detected: PushUps\n",
      "Frame 103 Detected: PushUps\n",
      "Frame 104 Detected: PushUps\n",
      "Frame 105 Detected: PushUps\n",
      "Frame 106 Detected: PushUps\n",
      "Frame 107 Detected: PushUps\n",
      "Frame 108 Detected: PushUps\n",
      "Frame 109 Detected: PushUps\n",
      "Frame 110 Detected: PushUps\n",
      "Frame 111 Detected: PushUps\n",
      "Frame 112 Detected: PushUps\n",
      "Frame 113 Detected: PushUps\n",
      "Frame 114 Detected: PushUps\n",
      "Frame 115 Detected: PushUps\n",
      "Frame 116 Detected: PushUps\n",
      "Frame 117 Detected: PushUps\n",
      "Frame 118 Detected: PushUps\n",
      "Frame 119 Detected: PushUps\n",
      "Frame 120 Detected: PushUps\n",
      "Frame 121 Detected: PushUps\n",
      "Frame 122 Detected: PushUps\n",
      "Frame 123 Detected: PushUps\n",
      "Frame 124 Detected: PushUps\n",
      "Frame 125 Detected: PushUps\n",
      "Frame 126 Detected: PushUps\n",
      "Frame 127 Detected: PushUps\n",
      "Frame 128 Detected: PushUps\n",
      "Frame 129 Detected: PushUps\n",
      "Frame 130 Detected: PushUps\n",
      "Frame 131 Detected: PushUps\n",
      "Frame 132 Detected: PushUps\n",
      "Frame 133 Detected: PushUps\n",
      "Frame 134 Detected: PushUps\n",
      "Frame 135 Detected: PushUps\n",
      "Frame 136 Detected: PushUps\n",
      "Frame 137 Detected: PushUps\n",
      "Frame 138 Detected: PushUps\n",
      "Frame 139 Detected: PushUps\n",
      "Frame 140 Detected: PushUps\n",
      "Frame 141 Detected: PushUps\n",
      "Frame 142 Detected: PushUps\n",
      "Frame 143 Detected: PushUps\n",
      "Frame 144 Detected: PushUps\n",
      "Frame 145 Detected: PushUps\n",
      "Frame 146 Detected: PushUps\n",
      "Frame 147 Detected: PushUps\n",
      "Frame 148 Detected: PushUps\n",
      "Frame 149 Detected: PushUps\n",
      "Frame 150 Detected: PushUps\n",
      "Frame 151 Detected: PushUps\n",
      "Frame 152 Detected: PushUps\n",
      "Frame 153 Detected: PushUps\n",
      "Frame 154 Detected: PushUps\n",
      "Frame 155 Detected: PushUps\n",
      "Frame 156 Detected: PushUps\n",
      "Frame 157 Detected: PushUps\n",
      "Frame 158 Detected: PushUps\n",
      "Frame 159 Detected: PushUps\n",
      "Frame 160 Detected: PushUps\n",
      "Frame 161 Detected: PushUps\n",
      "Frame 162 Detected: PushUps\n",
      "Frame 163 Detected: PushUps\n",
      "Frame 164 Detected: PushUps\n",
      "Frame 165 Detected: PushUps\n",
      "Frame 166 Detected: PushUps\n",
      "Frame 167 Detected: PushUps\n",
      "Frame 168 Detected: PushUps\n",
      "Frame 169 Detected: PushUps\n",
      "Frame 170 Detected: PushUps\n",
      "Frame 171 Detected: PushUps\n",
      "Frame 172 Detected: PushUps\n",
      "Frame 173 Detected: PushUps\n",
      "Frame 174 Detected: PushUps\n",
      "Frame 175 Detected: PushUps\n",
      "Frame 176 Detected: PushUps\n",
      "Frame 177 Detected: PushUps\n",
      "Frame 178 Detected: PushUps\n",
      "Frame 179 Detected: PushUps\n",
      "Frame 180 Detected: PushUps\n",
      "Frame 181 Detected: PushUps\n",
      "Frame 182 Detected: PushUps\n",
      "Frame 183 Detected: PushUps\n",
      "Frame 184 Detected: PushUps\n",
      "Frame 185 Detected: PushUps\n",
      "Frame 186 Detected: PushUps\n",
      "Frame 187 Detected: PushUps\n",
      "Frame 188 Detected: PushUps\n",
      "Frame 189 Detected: PushUps\n",
      "Frame 190 Detected: PushUps\n",
      "Frame 191 Detected: PushUps\n",
      "Frame 192 Detected: PushUps\n",
      "Frame 193 Detected: PushUps\n",
      "Frame 194 Detected: PushUps\n",
      "Frame 195 Detected: PushUps\n",
      "Frame 196 Detected: PushUps\n",
      "Frame 197 Detected: PushUps\n",
      "Frame 198 Detected: PushUps\n",
      "Frame 199 Detected: PushUps\n",
      "Frame 200 Detected: PushUps\n",
      "Frame 201 Detected: PushUps\n",
      "Frame 202 Detected: PushUps\n",
      "Frame 203 Detected: PushUps\n",
      "Frame 204 Detected: PushUps\n",
      "Frame 205 Detected: PushUps\n",
      "Frame 206 Detected: PushUps\n",
      "Frame 207 Detected: PushUps\n",
      "Frame 208 Detected: PushUps\n",
      "Frame 209 Detected: PushUps\n",
      "Frame 210 Detected: PushUps\n",
      "Frame 211 Detected: PushUps\n",
      "Frame 212 Detected: PushUps\n",
      "Frame 213 Detected: PushUps\n",
      "Frame 214 Detected: PushUps\n",
      "Frame 215 Detected: PushUps\n",
      "Frame 216 Detected: PushUps\n",
      "Frame 217 Detected: PushUps\n",
      "Frame 218 Detected: PushUps\n",
      "Frame 219 Detected: PushUps\n",
      "Frame 220 Detected: PushUps\n",
      "Frame 221 Detected: PushUps\n",
      "Frame 222 Detected: PushUps\n",
      "Frame 223 Detected: PushUps\n",
      "Frame 224 Detected: PushUps\n",
      "Frame 225 Detected: PushUps\n",
      "Frame 226 Detected: PushUps\n",
      "Frame 227 Detected: PushUps\n",
      "Frame 228 Detected: PushUps\n",
      "Frame 229 Detected: PushUps\n",
      "Frame 230 Detected: PushUps\n",
      "Frame 231 Detected: PushUps\n",
      "Frame 232 Detected: PushUps\n",
      "Frame 233 Detected: PushUps\n",
      "Frame 234 Detected: PushUps\n",
      "Frame 235 Detected: PushUps\n",
      "Frame 236 Detected: PushUps\n",
      "Frame 237 Detected: PushUps\n",
      "Frame 238 Detected: PushUps\n",
      "Frame 239 Detected: PushUps\n",
      "Frame 240 Detected: PushUps\n",
      "Frame 241 Detected: PushUps\n",
      "Frame 242 Detected: PushUps\n",
      "Frame 243 Detected: PushUps\n",
      "Frame 244 Detected: PushUps\n",
      "Frame 245 Detected: PushUps\n",
      "Frame 246 Detected: PushUps\n",
      "Frame 247 Detected: PushUps\n",
      "Frame 248 Detected: PushUps\n",
      "Frame 249 Detected: PushUps\n",
      "Frame 250 Detected: PushUps\n",
      "Frame 251 Detected: PushUps\n",
      "Frame 252 Detected: PushUps\n",
      "Frame 253 Detected: PushUps\n",
      "Frame 254 Detected: PushUps\n",
      "Frame 255 Detected: PushUps\n",
      "Frame 256 Detected: PushUps\n",
      "Frame 257 Detected: PushUps\n",
      "Frame 258 Detected: PushUps\n",
      "Frame 259 Detected: PushUps\n",
      "Frame 260 Detected: PushUps\n",
      "Frame 261 Detected: PushUps\n",
      "Frame 262 Detected: PushUps\n",
      "Frame 263 Detected: PushUps\n",
      "Frame 264 Detected: PushUps\n",
      "Frame 265 Detected: PushUps\n",
      "Frame 266 Detected: PushUps\n",
      "Frame 267 Detected: PushUps\n",
      "Frame 268 Detected: PushUps\n",
      "Frame 269 Detected: PushUps\n",
      "Frame 270 Detected: PushUps\n",
      "Frame 271 Detected: PushUps\n",
      "Frame 272 Detected: PushUps\n",
      "Frame 273 Detected: PushUps\n",
      "Frame 274 Detected: PushUps\n",
      "Frame 275 Detected: PushUps\n",
      "Frame 276 Detected: PushUps\n",
      "Frame 277 Detected: PushUps\n",
      "Frame 278 Detected: PushUps\n",
      "Frame 279 Detected: PushUps\n",
      "Frame 280 Detected: PushUps\n",
      "Frame 281 Detected: PushUps\n",
      "Frame 282 Detected: PushUps\n",
      "Frame 283 Detected: PushUps\n",
      "Frame 284 Detected: PushUps\n",
      "Frame 285 Detected: PushUps\n",
      "Frame 286 Detected: PushUps\n",
      "Frame 287 Detected: PushUps\n",
      "Frame 288 Detected: PushUps\n",
      "Frame 289 Detected: PushUps\n",
      "Frame 290 Detected: PushUps\n",
      "Frame 291 Detected: PushUps\n",
      "Frame 292 Detected: PushUps\n",
      "Frame 293 Detected: PushUps\n",
      "Frame 294 Detected: PushUps\n",
      "Frame 295 Detected: PushUps\n",
      "Frame 296 Detected: PushUps\n",
      "Frame 297 Detected: PushUps\n",
      "Frame 298 Detected: PushUps\n",
      "Frame 299 Detected: PushUps\n",
      "Frame 300 Detected: PushUps\n",
      "Closing ...\n"
     ]
    }
   ],
   "source": [
    "frameCounter = 0\n",
    "while True:\n",
    "    (grabbed,\n",
    "     frame)     = vs.read()\n",
    "    frameCounter += 1\n",
    "    if not grabbed:\n",
    "        break\n",
    "    # Initialization on the W and H\n",
    "    if W is None or H is None:\n",
    "        (H, W)  = frame.shape[:2]\n",
    "\n",
    "    # Get the frame\n",
    "    output      = frame.copy()\n",
    "    frame       = cv2.cvtColor(frame, cv2.COLOR_BGR2RGB)\n",
    "    frame       = cv2.resize(frame, (224, 224)).astype(\"float32\")\n",
    "#     frame      -= imgMean\n",
    "    \n",
    "    # Infer openpose\n",
    "    input_blob = cv2.dnn.blobFromImage(frame, 1.0/255, (modelInWidth, modelInWidth), (0,0,0), swapRB=False, crop=False)\n",
    "    net.setInput(input_blob)\n",
    "    netout_org = net.forward()\n",
    "    netout = np.swapaxes(np.squeeze(netout_org, axis=0),0,2)\n",
    "    netout = netout[:,:,0:18] # 46, 46, 19\n",
    "    \n",
    "    # Perform prediction on the frame\n",
    "    preds       = inferModel.predict(np.expand_dims(netout, axis=0))\n",
    "    clss = np.argmax(preds)\n",
    "    label = labels[clss]\n",
    "    \n",
    "    #########\n",
    "    # ADD METHODS TO COUNT AND CHECK FOR CORRECTNESS HERE    \n",
    "    #########\n",
    "    \n",
    "    text        = \"Detected: {}\".format(label)\n",
    "    print(f'Frame {frameCounter} {text}')\n",
    "    cv2.putText(output,\n",
    "                text,\n",
    "                (10,40),\n",
    "                cv2.FONT_HERSHEY_SIMPLEX,\n",
    "                0.75,\n",
    "                (0,255,0),\n",
    "                5,\n",
    "                cv2.LINE_AA)# This must be removed if requires real-time display\n",
    "\n",
    "                            # Initialize the writer if this is not done\n",
    "    if writer is None:\n",
    "        fourcc = cv2.VideoWriter_fourcc(*\"MJPG\")\n",
    "        writer = cv2.VideoWriter(outpath,\n",
    "                                 fourcc,\n",
    "                                 30,\n",
    "                                 (W, H),\n",
    "                                 True)\n",
    "\n",
    "                            # Write the output frame to disk\n",
    "    writer.write(output)\n",
    "\n",
    "                            # Real-time display the output image\n",
    "#    cv2.imshow(\"Output\", output)\n",
    "\n",
    "\n",
    "print(\"Closing ...\")\n",
    "writer.release()\n",
    "vs.release()"
   ]
  },
  {
   "cell_type": "code",
   "execution_count": null,
   "metadata": {},
   "outputs": [],
   "source": []
  }
 ],
 "metadata": {
  "kernelspec": {
   "display_name": "Python 3",
   "language": "python",
   "name": "python3"
  },
  "language_info": {
   "codemirror_mode": {
    "name": "ipython",
    "version": 3
   },
   "file_extension": ".py",
   "mimetype": "text/x-python",
   "name": "python",
   "nbconvert_exporter": "python",
   "pygments_lexer": "ipython3",
   "version": "3.6.7"
  }
 },
 "nbformat": 4,
 "nbformat_minor": 4
}
