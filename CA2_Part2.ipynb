{
 "cells": [
  {
   "cell_type": "markdown",
   "metadata": {},
   "source": [
    "### ISS VSE CA2 Part2"
   ]
  },
  {
   "cell_type": "markdown",
   "metadata": {},
   "source": [
    "#### By: Kenneth Goh (A0198544N), Raymond Ng (A0198543R), Tan Heng Han (A0198502B)"
   ]
  },
  {
   "cell_type": "code",
   "execution_count": 31,
   "metadata": {},
   "outputs": [],
   "source": [
    "import cv2\n",
    "import os\n",
    "import math\n",
    "import time\n",
    "import pickle\n",
    "from collections import Counter\n",
    "from itertools import repeat\n",
    "import pandas as pd\n",
    "import numpy as np\n",
    "import matplotlib.pyplot as plt\n",
    "%matplotlib inline\n",
    "\n",
    "from glob import glob\n",
    "from tqdm import tqdm\n",
    "\n",
    "from sklearn.model_selection import train_test_split\n",
    "\n",
    "from tensorflow.keras.layers import LeakyReLU\n",
    "from tensorflow.keras.layers import Activation\n",
    "from tensorflow.keras.layers import Conv2D\n",
    "from tensorflow.keras.layers import Conv3D\n",
    "from tensorflow.keras.layers import MaxPooling2D\n",
    "from tensorflow.keras.layers import MaxPooling3D\n",
    "from tensorflow.keras.layers import Dropout\n",
    "from tensorflow.keras.layers import Flatten\n",
    "from tensorflow.keras.layers import Dense\n",
    "from tensorflow.keras.layers import Input\n",
    "from tensorflow.keras.layers import BatchNormalization\n",
    "from tensorflow.keras.layers import Add\n",
    "from tensorflow.keras.models import Model\n",
    "from tensorflow.keras.callbacks import ModelCheckpoint\n",
    "from tensorflow.keras.callbacks import CSVLogger\n",
    "from tensorflow.keras.callbacks import EarlyStopping\n",
    "from tensorflow.keras.callbacks import ReduceLROnPlateau\n",
    "from tensorflow.keras.optimizers import Adam\n",
    "from tensorflow.keras.initializers import he_normal\n",
    "from tensorflow.keras.regularizers import l2\n",
    "\n",
    "import sklearn.metrics as metrics\n",
    "from sklearn.preprocessing import LabelEncoder"
   ]
  },
  {
   "cell_type": "markdown",
   "metadata": {},
   "source": [
    "### Config"
   ]
  },
  {
   "cell_type": "code",
   "execution_count": 5,
   "metadata": {},
   "outputs": [],
   "source": [
    "# Config\n",
    "modelInWidth = 368\n",
    "modelInHeight = 368\n",
    "TEST_SIZE = 0.2\n",
    "BATCH_SIZE = 2\n",
    "EPOCH = 200"
   ]
  },
  {
   "cell_type": "markdown",
   "metadata": {},
   "source": [
    "### Load and slice videos for training\n",
    "Slice training videos into 5hz frames for model input\n",
    "Data set:\n",
    "1. Push up videos\n",
    "2. Mixture of non push up videos"
   ]
  },
  {
   "cell_type": "code",
   "execution_count": 6,
   "metadata": {},
   "outputs": [
    {
     "data": {
      "text/html": [
       "<div>\n",
       "<style scoped>\n",
       "    .dataframe tbody tr th:only-of-type {\n",
       "        vertical-align: middle;\n",
       "    }\n",
       "\n",
       "    .dataframe tbody tr th {\n",
       "        vertical-align: top;\n",
       "    }\n",
       "\n",
       "    .dataframe thead th {\n",
       "        text-align: right;\n",
       "    }\n",
       "</style>\n",
       "<table border=\"1\" class=\"dataframe\">\n",
       "  <thead>\n",
       "    <tr style=\"text-align: right;\">\n",
       "      <th></th>\n",
       "      <th>video_name</th>\n",
       "    </tr>\n",
       "  </thead>\n",
       "  <tbody>\n",
       "    <tr>\n",
       "      <th>0</th>\n",
       "      <td>data/PushUps\\v_PushUps_g01_c01.avi</td>\n",
       "    </tr>\n",
       "    <tr>\n",
       "      <th>1</th>\n",
       "      <td>data/PushUps\\v_PushUps_g01_c02.avi</td>\n",
       "    </tr>\n",
       "    <tr>\n",
       "      <th>2</th>\n",
       "      <td>data/PushUps\\v_PushUps_g01_c03.avi</td>\n",
       "    </tr>\n",
       "    <tr>\n",
       "      <th>3</th>\n",
       "      <td>data/PushUps\\v_PushUps_g01_c04.avi</td>\n",
       "    </tr>\n",
       "    <tr>\n",
       "      <th>4</th>\n",
       "      <td>data/PushUps\\v_PushUps_g01_c05.avi</td>\n",
       "    </tr>\n",
       "  </tbody>\n",
       "</table>\n",
       "</div>"
      ],
      "text/plain": [
       "                           video_name\n",
       "0  data/PushUps\\v_PushUps_g01_c01.avi\n",
       "1  data/PushUps\\v_PushUps_g01_c02.avi\n",
       "2  data/PushUps\\v_PushUps_g01_c03.avi\n",
       "3  data/PushUps\\v_PushUps_g01_c04.avi\n",
       "4  data/PushUps\\v_PushUps_g01_c05.avi"
      ]
     },
     "execution_count": 6,
     "metadata": {},
     "output_type": "execute_result"
    }
   ],
   "source": [
    "# Get filenames and labels for data\n",
    "labels = ['PushUps', 'NotPushUps']\n",
    "data_path = 'data/'\n",
    "files = pd.DataFrame()\n",
    "filenames = []\n",
    "for lbl in labels:\n",
    "    filename = np.array(glob(os.path.join(data_path, lbl) + '/*.avi'))\n",
    "    filenames.append(filename)\n",
    "\n",
    "files['video_name'] = [item for sublist in filenames for item in sublist]\n",
    "files.head()"
   ]
  },
  {
   "cell_type": "code",
   "execution_count": 10,
   "metadata": {},
   "outputs": [
    {
     "name": "stderr",
     "output_type": "stream",
     "text": [
      "100%|██████████████████████████████████████████████████████████████████████████████████████| 202/202 [00:21<00:00,  9.61it/s]\n"
     ]
    }
   ],
   "source": [
    "# Slice and store the frames from training videos\n",
    "for i in tqdm(range(files.shape[0])):\n",
    "    count = 0\n",
    "    videoFile = files['video_name'][i]\n",
    "    cap = cv2.VideoCapture(videoFile)   # capturing the video from the given path\n",
    "    frameRate = cap.get(5) #frame rate\n",
    "    while(cap.isOpened()):\n",
    "        frameId = cap.get(1) #current frame number\n",
    "        ret, frame = cap.read()\n",
    "        if (ret != True):\n",
    "            break\n",
    "        if (frameId % 2 == 0):\n",
    "            # storing the frames in a new folder named train_1\n",
    "            filename ='data/images/' + videoFile.split('\\\\')[1] +\"_frame%d.jpg\" % count;count+=1\n",
    "            cv2.imwrite(filename, frame)\n",
    "    cap.release()"
   ]
  },
  {
   "cell_type": "code",
   "execution_count": 11,
   "metadata": {},
   "outputs": [
    {
     "name": "stderr",
     "output_type": "stream",
     "text": [
      "100%|█████████████████████████████████████████████████████████████████████████████████| 11136/11136 [00:35<00:00, 315.56it/s]\n"
     ]
    },
    {
     "name": "stdout",
     "output_type": "stream",
     "text": [
      "Wall time: 35.4 s\n"
     ]
    },
    {
     "data": {
      "text/plain": [
       "<bound method DataFrame.info of                                                    frame       label\n",
       "0      [[[161, 169, 158], [161, 169, 158], [161, 169,...  NotPushUps\n",
       "1      [[[161, 169, 158], [161, 169, 158], [161, 169,...  NotPushUps\n",
       "2      [[[160, 169, 156], [160, 169, 156], [160, 169,...  NotPushUps\n",
       "3      [[[160, 169, 156], [160, 169, 156], [160, 169,...  NotPushUps\n",
       "4      [[[160, 169, 156], [160, 169, 156], [160, 169,...  NotPushUps\n",
       "...                                                  ...         ...\n",
       "11131  [[[103, 112, 125], [103, 112, 125], [103, 112,...     PushUps\n",
       "11132  [[[99, 108, 121], [102, 111, 124], [100, 112, ...     PushUps\n",
       "11133  [[[99, 108, 121], [102, 111, 124], [100, 112, ...     PushUps\n",
       "11134  [[[99, 108, 121], [102, 111, 124], [100, 112, ...     PushUps\n",
       "11135  [[[99, 108, 121], [102, 111, 124], [100, 112, ...     PushUps\n",
       "\n",
       "[11136 rows x 2 columns]>"
      ]
     },
     "execution_count": 11,
     "metadata": {},
     "output_type": "execute_result"
    }
   ],
   "source": [
    "%%time\n",
    "# Get filepath of all sliced images and read all images\n",
    "dataset_frame_path = 'data/images'\n",
    "frame_filenames = glob(dataset_frame_path + '/*.jpg')\n",
    "\n",
    "frames_n_labels = pd.DataFrame()\n",
    "\n",
    "frame_list = []\n",
    "label_list = []\n",
    "for idx in tqdm(range(len(frame_filenames))):\n",
    "    frame_list.append(cv2.imread(frame_filenames[idx]))\n",
    "    label = frame_filenames[idx].split('_')[1]\n",
    "    if label not in labels:\n",
    "        label = labels[1] # Assign all non-pushup\n",
    "    label_list.append(label)\n",
    "frames_n_labels['frame'] = frame_list\n",
    "frames_n_labels['label'] = np.vstack(label_list)\n",
    "frames_n_labels.info"
   ]
  },
  {
   "cell_type": "code",
   "execution_count": 12,
   "metadata": {},
   "outputs": [
    {
     "data": {
      "text/plain": [
       "Text(0.5, 1.0, 'Frame Distribution')"
      ]
     },
     "execution_count": 12,
     "metadata": {},
     "output_type": "execute_result"
    },
    {
     "data": {
      "image/png": "[encoded data removed]",
      "text/plain": [
       "<Figure size 1440x720 with 1 Axes>"
      ]
     },
     "metadata": {
      "needs_background": "light"
     },
     "output_type": "display_data"
    }
   ],
   "source": [
    "label_count = Counter(frames_n_labels['label'])\n",
    "plt.figure(figsize=(20,10))\n",
    "plt.bar(label_count.keys(), label_count.values())\n",
    "plt.title('Frame Distribution')"
   ]
  },
  {
   "cell_type": "markdown",
   "metadata": {},
   "source": [
    "### Load OpenPose models"
   ]
  },
  {
   "cell_type": "markdown",
   "metadata": {},
   "source": [
    "#### Instructions to get openpose models\n",
    "1. Clone https://github.com/CMU-Perceptual-Computing-Lab/openpose\n",
    "2. Open a console and run **openpose/models/getModels.bat**\n",
    "3. Copy contents from **openpose/models/pose/coco** to **Model/coco**"
   ]
  },
  {
   "cell_type": "code",
   "execution_count": 13,
   "metadata": {},
   "outputs": [],
   "source": [
    "PROTO_FILE = 'Model/coco/pose_deploy_linevec.prototxt'\n",
    "WEIGHTS_FILE = 'Model/coco/pose_iter_440000.caffemodel'\n",
    "BODY_PARTS = { \"Nose\": 0, \"Neck\": 1, \"RShoulder\": 2, \"RElbow\": 3, \"RWrist\": 4,\n",
    "               \"LShoulder\": 5, \"LElbow\": 6, \"LWrist\": 7, \"RHip\": 8, \"RKnee\": 9,\n",
    "               \"RAnkle\": 10, \"LHip\": 11, \"LKnee\": 12, \"LAnkle\": 13, \"REye\": 14,\n",
    "               \"LEye\": 15, \"REar\": 16, \"LEar\": 17, \"Background\": 18 }\n",
    "POSE_PAIRS = [ [\"Neck\", \"RShoulder\"], [\"Neck\", \"LShoulder\"], [\"RShoulder\", \"RElbow\"],\n",
    "               [\"RElbow\", \"RWrist\"], [\"LShoulder\", \"LElbow\"], [\"LElbow\", \"LWrist\"],\n",
    "               [\"Neck\", \"RHip\"], [\"RHip\", \"RKnee\"], [\"RKnee\", \"RAnkle\"], [\"Neck\", \"LHip\"],\n",
    "               [\"LHip\", \"LKnee\"], [\"LKnee\", \"LAnkle\"], [\"Neck\", \"Nose\"], [\"Nose\", \"REye\"],\n",
    "               [\"REye\", \"REar\"], [\"Nose\", \"LEye\"], [\"LEye\", \"LEar\"] ]"
   ]
  },
  {
   "cell_type": "code",
   "execution_count": 14,
   "metadata": {},
   "outputs": [],
   "source": [
    "# Load openpose model via Opencv\n",
    "try:\n",
    "    net = cv2.dnn.readNetFromCaffe(PROTO_FILE, WEIGHTS_FILE)\n",
    "except:\n",
    "    raise Exception('Error reading model, check model proto and weights file.')"
   ]
  },
  {
   "cell_type": "markdown",
   "metadata": {},
   "source": [
    "### Run Openpose inference for each frame\n",
    "Save heat maps for training"
   ]
  },
  {
   "cell_type": "code",
   "execution_count": 15,
   "metadata": {},
   "outputs": [
    {
     "name": "stderr",
     "output_type": "stream",
     "text": [
      "100%|████████████████████████████████████████████████████████████████████████████████| 11136/11136 [3:21:27<00:00,  1.09s/it]\n"
     ]
    },
    {
     "name": "stdout",
     "output_type": "stream",
     "text": [
      "Wall time: 3h 21min 58s\n"
     ]
    }
   ],
   "source": [
    "%%time\n",
    "netout = []\n",
    "for idx in tqdm(range(len(frames_n_labels['frame']))):\n",
    "    currFrame = frames_n_labels['frame'][idx]\n",
    "    frameWidth = currFrame.shape[1]\n",
    "    frameHeight = currFrame.shape[0]\n",
    "    inBlob = cv2.dnn.blobFromImage(currFrame, 1.0/255, (modelInWidth, modelInHeight), (0,0,0), swapRB=False, crop=False)\n",
    "    net.setInput(inBlob)\n",
    "    netout.append(np.swapaxes(np.squeeze(net.forward(), axis=0),0,2)) # shape=(46,46,57)\n",
    "netout_stk = np.stack(netout)"
   ]
  },
  {
   "cell_type": "code",
   "execution_count": 32,
   "metadata": {},
   "outputs": [],
   "source": [
    "with open('pose.pickle','wb') as f:\n",
    "    pickle.dump([frames_n_labels, netout], f)"
   ]
  },
  {
   "cell_type": "code",
   "execution_count": 33,
   "metadata": {},
   "outputs": [],
   "source": [
    "with open('pose.pickle','rb') as f:\n",
    "    frames_n_labels, netout = pickle.load(f)"
   ]
  },
  {
   "cell_type": "markdown",
   "metadata": {},
   "source": [
    "### Check image and pose"
   ]
  },
  {
   "cell_type": "code",
   "execution_count": 16,
   "metadata": {},
   "outputs": [],
   "source": [
    "# Get random image\n",
    "ridx = np.random.randint(len(netout)-1)\n",
    "testout = np.swapaxes(netout[ridx],2,0) # shape=(57,46,46)\n",
    "testimg = frames_n_labels['frame'][ridx]"
   ]
  },
  {
   "cell_type": "code",
   "execution_count": 17,
   "metadata": {},
   "outputs": [],
   "source": [
    "points = []\n",
    "for i in range(len(BODY_PARTS)):\n",
    "    # Slice heatmap of corresponging body's part.\n",
    "    heatMap = testout[i, :, :]\n",
    " \n",
    "    # Originally, we try to find all the local maximums. To simplify a sample\n",
    "    # we just find a global one. However only a single pose at the same time\n",
    "    # could be detected this way.\n",
    "    _, conf, _, point = cv2.minMaxLoc(heatMap)\n",
    "    x = (frameWidth * point[0]) / testout.shape[2]\n",
    "    y = (frameHeight * point[1]) / testout.shape[1]\n",
    " \n",
    "    # Add a point if it's confidence is higher than threshold.\n",
    "    points.append((int(x), int(y)) if conf > 0.1 else None)"
   ]
  },
  {
   "cell_type": "code",
   "execution_count": 18,
   "metadata": {},
   "outputs": [],
   "source": [
    "for pair in POSE_PAIRS:\n",
    "    partFrom = pair[0]\n",
    "    partTo = pair[1]\n",
    "    assert(partFrom in BODY_PARTS)\n",
    "    assert(partTo in BODY_PARTS)\n",
    " \n",
    "    idFrom = BODY_PARTS[partFrom]\n",
    "    idTo = BODY_PARTS[partTo]\n",
    "    if points[idFrom] and points[idTo]:\n",
    "        cv2.line(testimg, points[idFrom], points[idTo], (255, 74, 0), 3)\n",
    "        cv2.ellipse(testimg, points[idFrom], (4, 4), 0, 0, 360, (255, 255, 255), cv2.FILLED)\n",
    "        cv2.ellipse(testimg, points[idTo], (4, 4), 0, 0, 360, (255, 255, 255), cv2.FILLED)\n",
    "        cv2.putText(testimg, str(idFrom), points[idFrom], cv2.FONT_HERSHEY_SIMPLEX, 0.5, (255, 255, 255),2,cv2.LINE_AA)\n",
    "        cv2.putText(testimg, str(idTo), points[idTo], cv2.FONT_HERSHEY_SIMPLEX, 0.5, (255, 255, 255),2,cv2.LINE_AA)"
   ]
  },
  {
   "cell_type": "code",
   "execution_count": 19,
   "metadata": {},
   "outputs": [
    {
     "data": {
      "image/png": "[encoded data removed]",
      "text/plain": [
       "<Figure size 720x720 with 1 Axes>"
      ]
     },
     "metadata": {
      "needs_background": "light"
     },
     "output_type": "display_data"
    }
   ],
   "source": [
    "plt.figure(figsize=(10,10))\n",
    "plt.imshow(testimg)\n",
    "plt.title('Pose')\n",
    "plt.show()"
   ]
  },
  {
   "cell_type": "markdown",
   "metadata": {},
   "source": [
    "### Prepare training data"
   ]
  },
  {
   "cell_type": "code",
   "execution_count": 20,
   "metadata": {},
   "outputs": [
    {
     "name": "stderr",
     "output_type": "stream",
     "text": [
      "D:\\Anaconda\\envs\\vse\\lib\\site-packages\\sklearn\\preprocessing\\label.py:235: DataConversionWarning: A column-vector y was passed when a 1d array was expected. Please change the shape of y to (n_samples, ), for example using ravel().\n",
      "  y = column_or_1d(y, warn=True)\n"
     ]
    },
    {
     "data": {
      "text/plain": [
       "array([0, 0, 0, ..., 1, 1, 1])"
      ]
     },
     "execution_count": 20,
     "metadata": {},
     "output_type": "execute_result"
    }
   ],
   "source": [
    "all_lbl = np.asarray(frames_n_labels['label'])\n",
    "all_lbl = all_lbl.reshape(-1,1)\n",
    "oh_lbl = LabelEncoder().fit_transform(all_lbl)\n",
    "oh_lbl"
   ]
  },
  {
   "cell_type": "code",
   "execution_count": 21,
   "metadata": {},
   "outputs": [],
   "source": [
    "# Train test split\n",
    "trainData, testData, trainLabel, testLabel = train_test_split(netout_stk, oh_lbl, test_size=TEST_SIZE, random_state=42)"
   ]
  },
  {
   "cell_type": "code",
   "execution_count": 22,
   "metadata": {},
   "outputs": [
    {
     "name": "stdout",
     "output_type": "stream",
     "text": [
      "trainData shape: (8908, 46, 46, 57)\n",
      "testData shape: (2228, 46, 46, 57)\n",
      "trainLabel shape: (8908,)\n",
      "testLabel shape: (2228,)\n"
     ]
    }
   ],
   "source": [
    "print(f'trainData shape: {trainData.shape}')\n",
    "print(f'testData shape: {testData.shape}')\n",
    "print(f'trainLabel shape: {trainLabel.shape}')\n",
    "print(f'testLabel shape: {testLabel.shape}')"
   ]
  },
  {
   "cell_type": "markdown",
   "metadata": {},
   "source": [
    "### Training Model"
   ]
  },
  {
   "cell_type": "code",
   "execution_count": 23,
   "metadata": {},
   "outputs": [],
   "source": [
    "def createModel(x, y, features):\n",
    "    ipt = Input(shape=(x, y, features))\n",
    "\n",
    "    x   = Conv2D(32, (3,3), padding='same', strides=(2,2))(ipt)\n",
    "    x   = BatchNormalization()(x)\n",
    "    x   = Activation('relu')(x)\n",
    "    \n",
    "    x   = Conv2D(32, (3,3), padding='same', strides=(2,2))(x)\n",
    "    x   = BatchNormalization()(x)\n",
    "    x   = Activation('relu')(x)\n",
    "    \n",
    "    x   = Conv2D(64, (3,3), padding='same', strides=(2,2))(x)\n",
    "    x   = BatchNormalization()(x)\n",
    "    x   = Activation('relu')(x)\n",
    "    \n",
    "    x   = Conv2D(64, (3,3), padding='same', strides=(2,2))(x)\n",
    "    x   = BatchNormalization()(x)\n",
    "    x   = Activation('relu')(x)\n",
    "    x   = Dropout(0.5)(x)\n",
    "       \n",
    "    x   = Flatten()(x)\n",
    "    x   = Dense(128, activation='relu', kernel_initializer=he_normal(42), kernel_regularizer=l2(0.001))(x)\n",
    "    x   = Dense(64, activation='relu', kernel_initializer=he_normal(42), kernel_regularizer=l2(0.001))(x)\n",
    "    x   = Dense(1, activation='sigmoid')(x)\n",
    "    \n",
    "    model = Model(ipt, x)\n",
    "    model.compile(loss='binary_crossentropy', \n",
    "                  optimizer='adam', \n",
    "                  metrics=['accuracy'])\n",
    "    \n",
    "    return model"
   ]
  },
  {
   "cell_type": "code",
   "execution_count": 24,
   "metadata": {},
   "outputs": [
    {
     "name": "stdout",
     "output_type": "stream",
     "text": [
      "Model: \"model\"\n",
      "_________________________________________________________________\n",
      "Layer (type)                 Output Shape              Param #   \n",
      "=================================================================\n",
      "input_1 (InputLayer)         [(None, 46, 46, 57)]      0         \n",
      "_________________________________________________________________\n",
      "conv2d (Conv2D)              (None, 23, 23, 32)        16448     \n",
      "_________________________________________________________________\n",
      "batch_normalization (BatchNo (None, 23, 23, 32)        128       \n",
      "_________________________________________________________________\n",
      "activation (Activation)      (None, 23, 23, 32)        0         \n",
      "_________________________________________________________________\n",
      "conv2d_1 (Conv2D)            (None, 12, 12, 32)        9248      \n",
      "_________________________________________________________________\n",
      "batch_normalization_1 (Batch (None, 12, 12, 32)        128       \n",
      "_________________________________________________________________\n",
      "activation_1 (Activation)    (None, 12, 12, 32)        0         \n",
      "_________________________________________________________________\n",
      "conv2d_2 (Conv2D)            (None, 6, 6, 64)          18496     \n",
      "_________________________________________________________________\n",
      "batch_normalization_2 (Batch (None, 6, 6, 64)          256       \n",
      "_________________________________________________________________\n",
      "activation_2 (Activation)    (None, 6, 6, 64)          0         \n",
      "_________________________________________________________________\n",
      "conv2d_3 (Conv2D)            (None, 3, 3, 64)          36928     \n",
      "_________________________________________________________________\n",
      "batch_normalization_3 (Batch (None, 3, 3, 64)          256       \n",
      "_________________________________________________________________\n",
      "activation_3 (Activation)    (None, 3, 3, 64)          0         \n",
      "_________________________________________________________________\n",
      "dropout (Dropout)            (None, 3, 3, 64)          0         \n",
      "_________________________________________________________________\n",
      "flatten (Flatten)            (None, 576)               0         \n",
      "_________________________________________________________________\n",
      "dense (Dense)                (None, 128)               73856     \n",
      "_________________________________________________________________\n",
      "dense_1 (Dense)              (None, 64)                8256      \n",
      "_________________________________________________________________\n",
      "dense_2 (Dense)              (None, 1)                 65        \n",
      "=================================================================\n",
      "Total params: 164,065\n",
      "Trainable params: 163,681\n",
      "Non-trainable params: 384\n",
      "_________________________________________________________________\n"
     ]
    }
   ],
   "source": [
    "xShape, yShape, featureShape = trainData[0].shape\n",
    "trainModel = createModel(xShape, yShape, featureShape)\n",
    "inferModel = createModel(xShape, yShape, featureShape)\n",
    "trainModel.summary()"
   ]
  },
  {
   "cell_type": "code",
   "execution_count": 25,
   "metadata": {},
   "outputs": [],
   "source": [
    "modelname = 'pose'\n",
    "modelpath = os.path.join('Model', modelname+'.hdf5')\n",
    "checkpoint = ModelCheckpoint(modelpath, \n",
    "                             monitor='val_loss', \n",
    "                             verbose=1, \n",
    "                             save_best_only=True, \n",
    "                             mode='min')\n",
    "csv_logger = CSVLogger(modelname +'.csv')\n",
    "early_stop = EarlyStopping(monitor='val_loss', patience=5, verbose=1, mode='auto')\n",
    "reduceLr = ReduceLROnPlateau(monitor='val_loss', patience=5, verbose=1, mode='auto')\n",
    "\n",
    "callbacks_list  = [checkpoint, csv_logger, early_stop, reduceLr]"
   ]
  },
  {
   "cell_type": "code",
   "execution_count": 26,
   "metadata": {},
   "outputs": [
    {
     "name": "stdout",
     "output_type": "stream",
     "text": [
      "Train on 8908 samples, validate on 2228 samples\n",
      "Epoch 1/200\n",
      "8882/8908 [============================>.] - ETA: 0s - loss: 0.2298 - accuracy: 0.9637\n",
      "Epoch 00001: val_loss improved from inf to 0.93589, saving model to Model\\pose.hdf5\n",
      "8908/8908 [==============================] - 29s 3ms/sample - loss: 0.2295 - accuracy: 0.9637 - val_loss: 0.9359 - val_accuracy: 0.8366\n",
      "Epoch 2/200\n",
      "8878/8908 [============================>.] - ETA: 0s - loss: 0.0610 - accuracy: 0.9881\n",
      "Epoch 00002: val_loss improved from 0.93589 to 0.78479, saving model to Model\\pose.hdf5\n",
      "8908/8908 [==============================] - 18s 2ms/sample - loss: 0.0608 - accuracy: 0.9881 - val_loss: 0.7848 - val_accuracy: 0.8227\n",
      "Epoch 3/200\n",
      "8886/8908 [============================>.] - ETA: 0s - loss: 0.0394 - accuracy: 0.9919\n",
      "Epoch 00003: val_loss improved from 0.78479 to 0.04354, saving model to Model\\pose.hdf5\n",
      "8908/8908 [==============================] - 19s 2ms/sample - loss: 0.0394 - accuracy: 0.9919 - val_loss: 0.0435 - val_accuracy: 0.9852\n",
      "Epoch 4/200\n",
      "8880/8908 [============================>.] - ETA: 0s - loss: 0.0260 - accuracy: 0.9946\n",
      "Epoch 00004: val_loss did not improve from 0.04354\n",
      "8908/8908 [==============================] - 19s 2ms/sample - loss: 0.0266 - accuracy: 0.9945 - val_loss: 0.0854 - val_accuracy: 0.9780\n",
      "Epoch 5/200\n",
      "8898/8908 [============================>.] - ETA: 0s - loss: 0.0199 - accuracy: 0.9961\n",
      "Epoch 00005: val_loss improved from 0.04354 to 0.03700, saving model to Model\\pose.hdf5\n",
      "8908/8908 [==============================] - 19s 2ms/sample - loss: 0.0199 - accuracy: 0.9961 - val_loss: 0.0370 - val_accuracy: 0.9901\n",
      "Epoch 6/200\n",
      "8886/8908 [============================>.] - ETA: 0s - loss: 0.0155 - accuracy: 0.9967\n",
      "Epoch 00006: val_loss did not improve from 0.03700\n",
      "8908/8908 [==============================] - 19s 2ms/sample - loss: 0.0155 - accuracy: 0.9967 - val_loss: 0.0721 - val_accuracy: 0.9794\n",
      "Epoch 7/200\n",
      "8896/8908 [============================>.] - ETA: 0s - loss: 0.0157 - accuracy: 0.9967\n",
      "Epoch 00007: val_loss did not improve from 0.03700\n",
      "8908/8908 [==============================] - 19s 2ms/sample - loss: 0.0157 - accuracy: 0.9967 - val_loss: 0.3730 - val_accuracy: 0.8873\n",
      "Epoch 8/200\n",
      "8884/8908 [============================>.] - ETA: 0s - loss: 0.0137 - accuracy: 0.9973\n",
      "Epoch 00008: val_loss improved from 0.03700 to 0.01050, saving model to Model\\pose.hdf5\n",
      "8908/8908 [==============================] - 18s 2ms/sample - loss: 0.0137 - accuracy: 0.9973 - val_loss: 0.0105 - val_accuracy: 0.9978\n",
      "Epoch 9/200\n",
      "8894/8908 [============================>.] - ETA: 0s - loss: 0.0121 - accuracy: 0.9972\n",
      "Epoch 00009: val_loss did not improve from 0.01050\n",
      "8908/8908 [==============================] - 18s 2ms/sample - loss: 0.0121 - accuracy: 0.9972 - val_loss: 0.0344 - val_accuracy: 0.9874\n",
      "Epoch 10/200\n",
      "8888/8908 [============================>.] - ETA: 0s - loss: 0.0084 - accuracy: 0.9990\n",
      "Epoch 00010: val_loss did not improve from 0.01050\n",
      "8908/8908 [==============================] - 18s 2ms/sample - loss: 0.0084 - accuracy: 0.9990 - val_loss: 0.1301 - val_accuracy: 0.9668\n",
      "Epoch 11/200\n",
      "8904/8908 [============================>.] - ETA: 0s - loss: 0.0083 - accuracy: 0.9984\n",
      "Epoch 00011: val_loss improved from 0.01050 to 0.00658, saving model to Model\\pose.hdf5\n",
      "8908/8908 [==============================] - 18s 2ms/sample - loss: 0.0083 - accuracy: 0.9984 - val_loss: 0.0066 - val_accuracy: 0.9991\n",
      "Epoch 12/200\n",
      "8888/8908 [============================>.] - ETA: 0s - loss: 0.0079 - accuracy: 0.9985\n",
      "Epoch 00012: val_loss did not improve from 0.00658\n",
      "8908/8908 [==============================] - 18s 2ms/sample - loss: 0.0079 - accuracy: 0.9985 - val_loss: 0.0073 - val_accuracy: 0.9987\n",
      "Epoch 13/200\n",
      "8888/8908 [============================>.] - ETA: 0s - loss: 0.0065 - accuracy: 0.9986\n",
      "Epoch 00013: val_loss did not improve from 0.00658\n",
      "8908/8908 [==============================] - 18s 2ms/sample - loss: 0.0065 - accuracy: 0.9987 - val_loss: 0.0083 - val_accuracy: 0.9987\n",
      "Epoch 14/200\n",
      "8878/8908 [============================>.] - ETA: 0s - loss: 0.0041 - accuracy: 0.9998\n",
      "Epoch 00014: val_loss did not improve from 0.00658\n",
      "8908/8908 [==============================] - 18s 2ms/sample - loss: 0.0041 - accuracy: 0.9998 - val_loss: 0.0092 - val_accuracy: 0.9973\n",
      "Epoch 15/200\n",
      "8900/8908 [============================>.] - ETA: 0s - loss: 0.0087 - accuracy: 0.9979\n",
      "Epoch 00015: val_loss did not improve from 0.00658\n",
      "8908/8908 [==============================] - 18s 2ms/sample - loss: 0.0087 - accuracy: 0.9979 - val_loss: 0.0176 - val_accuracy: 0.9942\n",
      "Epoch 16/200\n",
      "8876/8908 [============================>.] - ETA: 0s - loss: 0.0066 - accuracy: 0.9992\n",
      "Epoch 00016: val_loss improved from 0.00658 to 0.00557, saving model to Model\\pose.hdf5\n",
      "8908/8908 [==============================] - 18s 2ms/sample - loss: 0.0066 - accuracy: 0.9992 - val_loss: 0.0056 - val_accuracy: 0.9987\n",
      "Epoch 17/200\n",
      "8898/8908 [============================>.] - ETA: 0s - loss: 0.0071 - accuracy: 0.9987\n",
      "Epoch 00017: val_loss did not improve from 0.00557\n",
      "8908/8908 [==============================] - 18s 2ms/sample - loss: 0.0071 - accuracy: 0.9987 - val_loss: 0.0273 - val_accuracy: 0.9946\n",
      "Epoch 18/200\n",
      "8892/8908 [============================>.] - ETA: 0s - loss: 0.0062 - accuracy: 0.9991\n",
      "Epoch 00018: val_loss did not improve from 0.00557\n",
      "8908/8908 [==============================] - 18s 2ms/sample - loss: 0.0062 - accuracy: 0.9991 - val_loss: 0.0085 - val_accuracy: 0.9978\n",
      "Epoch 19/200\n",
      "8896/8908 [============================>.] - ETA: 0s - loss: 0.0045 - accuracy: 0.9990\n",
      "Epoch 00019: val_loss did not improve from 0.00557\n",
      "8908/8908 [==============================] - 18s 2ms/sample - loss: 0.0045 - accuracy: 0.9990 - val_loss: 0.0137 - val_accuracy: 0.9969\n",
      "Epoch 20/200\n",
      "8900/8908 [============================>.] - ETA: 0s - loss: 0.0058 - accuracy: 0.9991\n",
      "Epoch 00020: val_loss did not improve from 0.00557\n",
      "8908/8908 [==============================] - 18s 2ms/sample - loss: 0.0058 - accuracy: 0.9991 - val_loss: 0.0119 - val_accuracy: 0.9973\n",
      "Epoch 21/200\n",
      "8894/8908 [============================>.] - ETA: 0s - loss: 0.0033 - accuracy: 0.9999\n",
      "Epoch 00021: val_loss improved from 0.00557 to 0.00531, saving model to Model\\pose.hdf5\n",
      "8908/8908 [==============================] - 18s 2ms/sample - loss: 0.0033 - accuracy: 0.9999 - val_loss: 0.0053 - val_accuracy: 0.9991\n",
      "Epoch 22/200\n",
      "8878/8908 [============================>.] - ETA: 0s - loss: 0.0043 - accuracy: 0.9993\n",
      "Epoch 00022: val_loss did not improve from 0.00531\n",
      "8908/8908 [==============================] - 18s 2ms/sample - loss: 0.0043 - accuracy: 0.9993 - val_loss: 0.0403 - val_accuracy: 0.9906\n",
      "Epoch 23/200\n",
      "8890/8908 [============================>.] - ETA: 0s - loss: 0.0038 - accuracy: 0.9996\n",
      "Epoch 00023: val_loss did not improve from 0.00531\n",
      "8908/8908 [==============================] - 18s 2ms/sample - loss: 0.0037 - accuracy: 0.9996 - val_loss: 0.0060 - val_accuracy: 0.9987\n",
      "Epoch 24/200\n",
      "8888/8908 [============================>.] - ETA: 0s - loss: 0.0033 - accuracy: 0.9998\n",
      "Epoch 00024: val_loss did not improve from 0.00531\n",
      "8908/8908 [==============================] - 18s 2ms/sample - loss: 0.0033 - accuracy: 0.9998 - val_loss: 0.0068 - val_accuracy: 0.9982\n",
      "Epoch 25/200\n",
      "8898/8908 [============================>.] - ETA: 0s - loss: 0.0025 - accuracy: 0.9998\n",
      "Epoch 00025: val_loss did not improve from 0.00531\n",
      "8908/8908 [==============================] - 18s 2ms/sample - loss: 0.0025 - accuracy: 0.9998 - val_loss: 0.0094 - val_accuracy: 0.9982\n",
      "Epoch 26/200\n",
      "8892/8908 [============================>.] - ETA: 0s - loss: 0.0049 - accuracy: 0.9991\n",
      "Epoch 00026: val_loss did not improve from 0.00531\n",
      "\n",
      "Epoch 00026: ReduceLROnPlateau reducing learning rate to 0.00010000000474974513.\n",
      "8908/8908 [==============================] - 18s 2ms/sample - loss: 0.0049 - accuracy: 0.9991 - val_loss: 0.0129 - val_accuracy: 0.9969\n",
      "Epoch 00026: early stopping\n"
     ]
    },
    {
     "data": {
      "text/plain": [
       "<tensorflow.python.keras.callbacks.History at 0x27213bc5f98>"
      ]
     },
     "execution_count": 26,
     "metadata": {},
     "output_type": "execute_result"
    }
   ],
   "source": [
    "trainModel.fit(x=trainData, y=trainLabel,\n",
    "              batch_size=BATCH_SIZE,\n",
    "              validation_data=(testData,testLabel),\n",
    "              epochs=EPOCH,\n",
    "              callbacks=callbacks_list)"
   ]
  },
  {
   "cell_type": "code",
   "execution_count": 28,
   "metadata": {},
   "outputs": [],
   "source": [
    "inferModel.load_weights(modelpath)\n",
    "inferModel.compile(loss=\"binary_crossentropy\", \n",
    "                  optimizer=Adam(),\n",
    "                  metrics=[\"accuracy\"])"
   ]
  },
  {
   "cell_type": "code",
   "execution_count": 29,
   "metadata": {},
   "outputs": [
    {
     "name": "stdout",
     "output_type": "stream",
     "text": [
      "Best accuracy (on testing dataset): 64.18%\n",
      "              precision    recall  f1-score   support\n",
      "\n",
      "     PushUps     0.6418    1.0000    0.7818      1430\n",
      "  NotPushUps     0.0000    0.0000    0.0000       798\n",
      "\n",
      "    accuracy                         0.6418      2228\n",
      "   macro avg     0.3209    0.5000    0.3909      2228\n",
      "weighted avg     0.4119    0.6418    0.5018      2228\n",
      "\n",
      "[[1430    0]\n",
      " [ 798    0]]\n"
     ]
    },
    {
     "name": "stderr",
     "output_type": "stream",
     "text": [
      "D:\\Anaconda\\envs\\vse\\lib\\site-packages\\sklearn\\metrics\\classification.py:1437: UndefinedMetricWarning: Precision and F-score are ill-defined and being set to 0.0 in labels with no predicted samples.\n",
      "  'precision', 'predicted', average, warn_for)\n"
     ]
    }
   ],
   "source": [
    "pred = inferModel.predict(testData, batch_size=BATCH_SIZE)\n",
    "predout = np.argmax(pred, axis=1)\n",
    "# testout = np.argmax(testLabel, axis=1)\n",
    "\n",
    "testScores = metrics.accuracy_score(testLabel, predout)\n",
    "confusion  = metrics.confusion_matrix(testLabel, predout)\n",
    "\n",
    "print(\"Best accuracy (on testing dataset): %.2f%%\" % (testScores*100))\n",
    "print(metrics.classification_report(testLabel,predout,target_names=labels,digits=4))\n",
    "print(confusion)"
   ]
  },
  {
   "cell_type": "code",
   "execution_count": 30,
   "metadata": {},
   "outputs": [
    {
     "data": {
      "image/png": "[encoded data removed]",
      "text/plain": [
       "<Figure size 432x288 with 2 Axes>"
      ]
     },
     "metadata": {
      "needs_background": "light"
     },
     "output_type": "display_data"
    }
   ],
   "source": [
    "records = pd.read_csv(modelname +'.csv')\n",
    "plt.figure()\n",
    "plt.subplot(211)\n",
    "plt.plot(records['val_loss'])\n",
    "plt.plot(records['loss'])\n",
    "plt.yticks([0.00,0.40,0.60,0.80])\n",
    "plt.title('Loss value',fontsize=12)\n",
    "\n",
    "ax = plt.gca()\n",
    "ax.set_xticklabels([])\n",
    "\n",
    "plt.subplot(212)\n",
    "plt.plot(records['val_accuracy'])\n",
    "plt.plot(records['accuracy'])\n",
    "plt.yticks([0.6,0.7,0.8,0.9])\n",
    "plt.title('Accuracy',fontsize=12)\n",
    "plt.show()"
   ]
  },
  {
   "cell_type": "code",
   "execution_count": null,
   "metadata": {},
   "outputs": [],
   "source": []
  }
 ],
 "metadata": {
  "kernelspec": {
   "display_name": "Python 3",
   "language": "python",
   "name": "python3"
  },
  "language_info": {
   "codemirror_mode": {
    "name": "ipython",
    "version": 3
   },
   "file_extension": ".py",
   "mimetype": "text/x-python",
   "name": "python",
   "nbconvert_exporter": "python",
   "pygments_lexer": "ipython3",
   "version": "3.6.7"
  }
 },
 "nbformat": 4,
 "nbformat_minor": 4
}
